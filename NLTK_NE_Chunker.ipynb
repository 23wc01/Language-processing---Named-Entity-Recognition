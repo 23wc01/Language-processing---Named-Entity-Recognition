{
  "nbformat": 4,
  "nbformat_minor": 0,
  "metadata": {
    "colab": {
      "provenance": []
    },
    "kernelspec": {
      "name": "python3",
      "display_name": "Python 3"
    },
    "language_info": {
      "name": "python"
    }
  },
  "cells": [
    {
      "cell_type": "markdown",
      "source": [
        "#**NLTK NE Chunker**\n",
        "\n",
        "**Sources**\n",
        "\n",
        "* [Lifting the Hood on NLTK's NE Chunker](https://mattshomepage.com/articles/2016/May/23/nltk_nec/)"
      ],
      "metadata": {
        "id": "YosQ09RrYNmg"
      }
    },
    {
      "cell_type": "markdown",
      "source": [
        "#**Installs & Imports**"
      ],
      "metadata": {
        "id": "ynsbxqChYsF7"
      }
    },
    {
      "cell_type": "code",
      "execution_count": null,
      "metadata": {
        "id": "r7q8FAsnYKM5"
      },
      "outputs": [],
      "source": [
        "import nltk"
      ]
    },
    {
      "cell_type": "markdown",
      "source": [
        "#**Load dataset (in this case, model trained on dataset)**"
      ],
      "metadata": {
        "id": "iyIUUnIdZhpQ"
      }
    },
    {
      "cell_type": "code",
      "source": [
        "nltk.download('punkt')\n",
        "nltk.download('averaged_perceptron_tagger')\n",
        "nltk.download(\"maxent_ne_chunker\")\n",
        "nltk.download('words')"
      ],
      "metadata": {
        "colab": {
          "base_uri": "https://localhost:8080/"
        },
        "collapsed": true,
        "id": "DKZGmC6yaIvs",
        "outputId": "e2819709-8ba2-4c32-cc69-cd97ccaa19d6"
      },
      "execution_count": null,
      "outputs": [
        {
          "output_type": "stream",
          "name": "stderr",
          "text": [
            "[nltk_data] Downloading package punkt to /root/nltk_data...\n",
            "[nltk_data]   Package punkt is already up-to-date!\n",
            "[nltk_data] Downloading package averaged_perceptron_tagger to\n",
            "[nltk_data]     /root/nltk_data...\n",
            "[nltk_data]   Package averaged_perceptron_tagger is already up-to-\n",
            "[nltk_data]       date!\n",
            "[nltk_data] Downloading package maxent_ne_chunker to\n",
            "[nltk_data]     /root/nltk_data...\n",
            "[nltk_data]   Package maxent_ne_chunker is already up-to-date!\n",
            "[nltk_data] Downloading package words to /root/nltk_data...\n",
            "[nltk_data]   Unzipping corpora/words.zip.\n"
          ]
        },
        {
          "output_type": "execute_result",
          "data": {
            "text/plain": [
              "True"
            ]
          },
          "metadata": {},
          "execution_count": 16
        }
      ]
    },
    {
      "cell_type": "code",
      "source": [
        "pretrained_chunker_model = nltk.data.load(\"chunkers/maxent_ne_chunker/english_ace_multiclass.pickle\")"
      ],
      "metadata": {
        "id": "jWzTbtTtZhF1"
      },
      "execution_count": null,
      "outputs": []
    },
    {
      "cell_type": "markdown",
      "source": [
        "#**maxEnt_report()**"
      ],
      "metadata": {
        "id": "EnzXgAjXYvsb"
      }
    },
    {
      "cell_type": "code",
      "source": [
        "def maxEnt_report(chunker_model):\n",
        "  maxEnt = chunker_model._tagger.classifier()\n",
        "  print(\"Weight\\tfeature_name\\tlabel\")\n",
        "  print(maxEnt.show_most_informative_features())"
      ],
      "metadata": {
        "id": "ZU1NUCKvYvBw"
      },
      "execution_count": null,
      "outputs": []
    },
    {
      "cell_type": "code",
      "source": [
        "maxEnt_report(pretrained_chunker_model)"
      ],
      "metadata": {
        "colab": {
          "base_uri": "https://localhost:8080/"
        },
        "id": "nZjNQkdMY6_v",
        "outputId": "fd241f7e-9f19-4b66-95c9-c75d3ce732b6"
      },
      "execution_count": null,
      "outputs": [
        {
          "output_type": "stream",
          "name": "stdout",
          "text": [
            "Weight\tfeature_name\tlabel\n",
            "  10.125 bias==True and label is 'O'\n",
            "   6.631 suffix3=='day' and label is 'O'\n",
            "  -6.207 bias==True and label is 'I-GSP'\n",
            "   5.628 prevtag=='O' and label is 'O'\n",
            "  -4.740 shape=='upcase' and label is 'O'\n",
            "   4.106 shape+prevtag=='<function shape at 0x8bde0d4>+O' and label is 'O'\n",
            "  -3.994 shape=='mixedcase' and label is 'O'\n",
            "   3.992 pos+prevtag=='NNP+B-PERSON' and label is 'I-PERSON'\n",
            "   3.890 prevtag=='I-ORGANIZATION' and label is 'I-ORGANIZATION'\n",
            "   3.879 shape+prevtag=='<function shape at 0x8bde0d4>+I-ORGANIZATION' and label is 'I-ORGANIZATION'\n",
            "None\n"
          ]
        }
      ]
    },
    {
      "cell_type": "markdown",
      "source": [
        "#**ne_report()**"
      ],
      "metadata": {
        "id": "cSD6f8HTar4M"
      }
    },
    {
      "cell_type": "code",
      "source": [
        "def ne_report(sentence, chunker_model, report_all=False):\n",
        "  maxEnt = chunker_model._tagger.classifier()\n",
        "  tokens = nltk.word_tokenize(sentence)\n",
        "  tagged_tokens = nltk.pos_tag(tokens) # returns [(word, pos_tag)...]\n",
        "  previous_tags = []\n",
        "  for i in range(len(tagged_tokens)):\n",
        "    featureset = chunker_model._tagger.feature_detector(tagged_tokens, i, previous_tags)\n",
        "    tag = chunker_model._tagger.choose_tag(tagged_tokens, i, previous_tags)\n",
        "    if tag != 'O' or report_all:\n",
        "      print(\"Explation for why:\", tagged_tokens[i][0], \" tagged as\", tag, \":\")\n",
        "      maxEnt.explain(featureset)\n",
        "      print(tag)\n",
        "    previous_tags.append(tag)"
      ],
      "metadata": {
        "id": "F1CDKnDTbr6N"
      },
      "execution_count": null,
      "outputs": []
    },
    {
      "cell_type": "code",
      "source": [
        "ne_report(\"I am very excited about the next generation of Apple products.\", pretrained_chunker_model)"
      ],
      "metadata": {
        "colab": {
          "base_uri": "https://localhost:8080/"
        },
        "id": "oIn0zi8-cwrA",
        "outputId": "ed7494bc-f4a5-4a02-8648-1b153f6f14ac"
      },
      "execution_count": null,
      "outputs": [
        {
          "output_type": "stream",
          "name": "stdout",
          "text": [
            "Explation for why: Apple  tagged as B-GPE :\n",
            "  Feature                                            B-GPE       O B-ORGAN   B-GSP\n",
            "  --------------------------------------------------------------------------------\n",
            "  prevtag=='O' (1)                                   3.767\n",
            "  shape=='upcase' (1)                                2.701\n",
            "  pos+prevtag=='NNP+O' (1)                           2.254\n",
            "  en-wordlist==False (1)                             2.095\n",
            "  label is 'B-GPE' (1)                              -2.005\n",
            "  bias==True (1)                                    -1.975\n",
            "  prevword=='of' (1)                                 0.742\n",
            "  pos=='NNP' (1)                                     0.681\n",
            "  nextpos=='nns' (1)                                 0.661\n",
            "  prevpos=='IN' (1)                                  0.311\n",
            "  wordlen==5 (1)                                     0.113\n",
            "  nextword=='products' (1)                           0.060\n",
            "  bias==True (1)                                            10.125\n",
            "  prevtag=='O' (1)                                           5.628\n",
            "  shape=='upcase' (1)                                       -4.740\n",
            "  prevpos=='IN' (1)                                         -1.668\n",
            "  label is 'O' (1)                                          -1.075\n",
            "  pos=='NNP' (1)                                            -1.024\n",
            "  suffix3=='ple' (1)                                         0.797\n",
            "  en-wordlist==False (1)                                     0.698\n",
            "  wordlen==5 (1)                                            -0.449\n",
            "  prevword=='of' (1)                                        -0.217\n",
            "  nextpos=='nns' (1)                                         0.104\n",
            "  prefix3=='app' (1)                                         0.089\n",
            "  pos+prevtag=='NNP+O' (1)                                   0.011\n",
            "  nextword=='products' (1)                                   0.005\n",
            "  prevtag=='O' (1)                                                   3.389\n",
            "  pos+prevtag=='NNP+O' (1)                                           1.725\n",
            "  bias==True (1)                                                     0.955\n",
            "  en-wordlist==False (1)                                             0.837\n",
            "  label is 'B-ORGANIZATION' (1)                                      0.718\n",
            "  nextpos=='nns' (1)                                                 0.365\n",
            "  wordlen==5 (1)                                                    -0.351\n",
            "  pos=='NNP' (1)                                                     0.174\n",
            "  prevpos=='IN' (1)                                                 -0.139\n",
            "  prevword=='of' (1)                                                 0.131\n",
            "  prefix3=='app' (1)                                                -0.126\n",
            "  shape=='upcase' (1)                                               -0.084\n",
            "  suffix3=='ple' (1)                                                -0.077\n",
            "  prevtag=='O' (1)                                                           2.925\n",
            "  pos+prevtag=='NNP+O' (1)                                                   2.213\n",
            "  shape=='upcase' (1)                                                        0.929\n",
            "  en-wordlist==False (1)                                                     0.891\n",
            "  bias==True (1)                                                            -0.592\n",
            "  label is 'B-GSP' (1)                                                      -0.565\n",
            "  prevpos=='IN' (1)                                                          0.410\n",
            "  nextpos=='nns' (1)                                                         0.399\n",
            "  pos=='NNP' (1)                                                             0.393\n",
            "  prevword=='of' (1)                                                         0.184\n",
            "  wordlen==5 (1)                                                             0.177\n",
            "  ---------------------------------------------------------------------------------\n",
            "  TOTAL:                                             9.406   8.283   7.515   7.366\n",
            "  PROBS:                                             0.453   0.208   0.122   0.110\n",
            "B-GPE\n"
          ]
        }
      ]
    }
  ]
}