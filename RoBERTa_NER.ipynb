{
  "nbformat": 4,
  "nbformat_minor": 0,
  "metadata": {
    "colab": {
      "provenance": []
    },
    "kernelspec": {
      "name": "python3",
      "display_name": "Python 3"
    },
    "language_info": {
      "name": "python"
    }
  },
  "cells": [
    {
      "cell_type": "markdown",
      "source": [
        "#**Sources**\n",
        "\n",
        "* [Named Entity Recognition using roBERTa Base Large Language Model - Medium](https://christiangrech.medium.com/named-entity-recognition-using-roberta-base-large-language-model-67110c82d7e2)\n",
        "\n",
        "\n",
        "* [NER annotator website](https://tecoholic.github.io/ner-annotator/)\n",
        "\n",
        "* [Custom NER in spacy tutorial](https://github.com/PradipNichite/Youtube-Tutorials/blob/main/Spacy_Custom_NER_Youtube.ipynb)\n"
      ],
      "metadata": {
        "id": "MFEIFiZ3yad6"
      }
    },
    {
      "cell_type": "markdown",
      "source": [
        "#**Installs & Imports**"
      ],
      "metadata": {
        "id": "gQVGC5vM52rQ"
      }
    },
    {
      "cell_type": "code",
      "source": [
        "!pip install transformers -q\n",
        "!pip install huggingface_hub -q\n",
        "!pip install wikipedia -q\n",
        "!pip install spacy spacy-transformers -q\n",
        "!python -m spacy download en_core_web_trf -q\n",
        "!python -m spacy download en_core_web_lg -q"
      ],
      "metadata": {
        "id": "sWKUisTWE2IG"
      },
      "execution_count": null,
      "outputs": []
    },
    {
      "cell_type": "code",
      "source": [
        "from spacy import displacy\n",
        "from spacy import load\n",
        "from spacy.tokens import DocBin\n",
        "from spacy.util import filter_spans\n",
        "from spacy import blank"
      ],
      "metadata": {
        "id": "NwbWSZ-A6AI6"
      },
      "execution_count": null,
      "outputs": []
    },
    {
      "cell_type": "code",
      "source": [
        "import json\n",
        "from tqdm import tqdm\n",
        "from random import randrange\n",
        "from transformers import pipeline\n",
        "from huggingface_hub import InferenceClient\n",
        "import wikipedia\n",
        "import pandas"
      ],
      "metadata": {
        "id": "USJ0TeX7oIDm"
      },
      "execution_count": null,
      "outputs": []
    },
    {
      "cell_type": "markdown",
      "source": [
        "#**RoBERTa NER**"
      ],
      "metadata": {
        "id": "VdsFVMH_6JjV"
      }
    },
    {
      "cell_type": "code",
      "source": [
        "def display_labeled_entities(nlp_output):\n",
        "  displacy.render(nlp_output, style=\"ent\", jupyter=True)\n",
        "  displacy.render(nlp_output, style=\"dep\", jupyter=True)\n",
        "  for entity in nlp_output.ents:\n",
        "    print(entity.text, \"- labeled as\", entity.label_)"
      ],
      "metadata": {
        "id": "up969kw4Nr0b"
      },
      "execution_count": null,
      "outputs": []
    },
    {
      "cell_type": "code",
      "execution_count": null,
      "metadata": {
        "id": "cST-yXnhyWOy"
      },
      "outputs": [],
      "source": [
        "nlp_roberta = load(\"en_core_web_trf\")"
      ]
    },
    {
      "cell_type": "code",
      "source": [
        "prompt = \"What is the prevelance of stroke in Columbia, Missouri, for the last 3 years?\""
      ],
      "metadata": {
        "id": "ykSDv7hL5_hS"
      },
      "execution_count": null,
      "outputs": []
    },
    {
      "cell_type": "code",
      "source": [
        "prompt_roberta_NER = nlp_roberta(prompt)"
      ],
      "metadata": {
        "id": "XRG2_us3Nero"
      },
      "execution_count": null,
      "outputs": []
    },
    {
      "cell_type": "code",
      "source": [
        "display_labeled_entities(prompt_roberta_NER)"
      ],
      "metadata": {
        "colab": {
          "base_uri": "https://localhost:8080/",
          "height": 615
        },
        "id": "GYrwSAZjORse",
        "outputId": "2975df5f-5fa1-4923-b6b3-f8c5c508fc19"
      },
      "execution_count": null,
      "outputs": [
        {
          "output_type": "display_data",
          "data": {
            "text/plain": [
              "<IPython.core.display.HTML object>"
            ],
            "text/html": [
              "<span class=\"tex2jax_ignore\"><div class=\"entities\" style=\"line-height: 2.5; direction: ltr\">What is the prevelance of stroke in \n",
              "<mark class=\"entity\" style=\"background: #feca74; padding: 0.45em 0.6em; margin: 0 0.25em; line-height: 1; border-radius: 0.35em;\">\n",
              "    Columbia\n",
              "    <span style=\"font-size: 0.8em; font-weight: bold; line-height: 1; border-radius: 0.35em; vertical-align: middle; margin-left: 0.5rem\">GPE</span>\n",
              "</mark>\n",
              ", \n",
              "<mark class=\"entity\" style=\"background: #feca74; padding: 0.45em 0.6em; margin: 0 0.25em; line-height: 1; border-radius: 0.35em;\">\n",
              "    Missouri\n",
              "    <span style=\"font-size: 0.8em; font-weight: bold; line-height: 1; border-radius: 0.35em; vertical-align: middle; margin-left: 0.5rem\">GPE</span>\n",
              "</mark>\n",
              ", for \n",
              "<mark class=\"entity\" style=\"background: #bfe1d9; padding: 0.45em 0.6em; margin: 0 0.25em; line-height: 1; border-radius: 0.35em;\">\n",
              "    the last 3 years\n",
              "    <span style=\"font-size: 0.8em; font-weight: bold; line-height: 1; border-radius: 0.35em; vertical-align: middle; margin-left: 0.5rem\">DATE</span>\n",
              "</mark>\n",
              "?</div></span>"
            ]
          },
          "metadata": {}
        },
        {
          "output_type": "display_data",
          "data": {
            "text/plain": [
              "<IPython.core.display.HTML object>"
            ],
            "text/html": [
              "<span class=\"tex2jax_ignore\"><svg xmlns=\"http://www.w3.org/2000/svg\" xmlns:xlink=\"http://www.w3.org/1999/xlink\" xml:lang=\"en\" id=\"0c448be210534f5284b6bcd674c0f7a8-0\" class=\"displacy\" width=\"2500\" height=\"487.0\" direction=\"ltr\" style=\"max-width: none; height: 487.0px; color: #000000; background: #ffffff; font-family: Arial; direction: ltr\">\n",
              "<text class=\"displacy-token\" fill=\"currentColor\" text-anchor=\"middle\" y=\"397.0\">\n",
              "    <tspan class=\"displacy-word\" fill=\"currentColor\" x=\"50\">What</tspan>\n",
              "    <tspan class=\"displacy-tag\" dy=\"2em\" fill=\"currentColor\" x=\"50\">PRON</tspan>\n",
              "</text>\n",
              "\n",
              "<text class=\"displacy-token\" fill=\"currentColor\" text-anchor=\"middle\" y=\"397.0\">\n",
              "    <tspan class=\"displacy-word\" fill=\"currentColor\" x=\"225\">is</tspan>\n",
              "    <tspan class=\"displacy-tag\" dy=\"2em\" fill=\"currentColor\" x=\"225\">AUX</tspan>\n",
              "</text>\n",
              "\n",
              "<text class=\"displacy-token\" fill=\"currentColor\" text-anchor=\"middle\" y=\"397.0\">\n",
              "    <tspan class=\"displacy-word\" fill=\"currentColor\" x=\"400\">the</tspan>\n",
              "    <tspan class=\"displacy-tag\" dy=\"2em\" fill=\"currentColor\" x=\"400\">DET</tspan>\n",
              "</text>\n",
              "\n",
              "<text class=\"displacy-token\" fill=\"currentColor\" text-anchor=\"middle\" y=\"397.0\">\n",
              "    <tspan class=\"displacy-word\" fill=\"currentColor\" x=\"575\">prevelance</tspan>\n",
              "    <tspan class=\"displacy-tag\" dy=\"2em\" fill=\"currentColor\" x=\"575\">NOUN</tspan>\n",
              "</text>\n",
              "\n",
              "<text class=\"displacy-token\" fill=\"currentColor\" text-anchor=\"middle\" y=\"397.0\">\n",
              "    <tspan class=\"displacy-word\" fill=\"currentColor\" x=\"750\">of</tspan>\n",
              "    <tspan class=\"displacy-tag\" dy=\"2em\" fill=\"currentColor\" x=\"750\">ADP</tspan>\n",
              "</text>\n",
              "\n",
              "<text class=\"displacy-token\" fill=\"currentColor\" text-anchor=\"middle\" y=\"397.0\">\n",
              "    <tspan class=\"displacy-word\" fill=\"currentColor\" x=\"925\">stroke</tspan>\n",
              "    <tspan class=\"displacy-tag\" dy=\"2em\" fill=\"currentColor\" x=\"925\">NOUN</tspan>\n",
              "</text>\n",
              "\n",
              "<text class=\"displacy-token\" fill=\"currentColor\" text-anchor=\"middle\" y=\"397.0\">\n",
              "    <tspan class=\"displacy-word\" fill=\"currentColor\" x=\"1100\">in</tspan>\n",
              "    <tspan class=\"displacy-tag\" dy=\"2em\" fill=\"currentColor\" x=\"1100\">ADP</tspan>\n",
              "</text>\n",
              "\n",
              "<text class=\"displacy-token\" fill=\"currentColor\" text-anchor=\"middle\" y=\"397.0\">\n",
              "    <tspan class=\"displacy-word\" fill=\"currentColor\" x=\"1275\">Columbia,</tspan>\n",
              "    <tspan class=\"displacy-tag\" dy=\"2em\" fill=\"currentColor\" x=\"1275\">PROPN</tspan>\n",
              "</text>\n",
              "\n",
              "<text class=\"displacy-token\" fill=\"currentColor\" text-anchor=\"middle\" y=\"397.0\">\n",
              "    <tspan class=\"displacy-word\" fill=\"currentColor\" x=\"1450\">Missouri,</tspan>\n",
              "    <tspan class=\"displacy-tag\" dy=\"2em\" fill=\"currentColor\" x=\"1450\">PROPN</tspan>\n",
              "</text>\n",
              "\n",
              "<text class=\"displacy-token\" fill=\"currentColor\" text-anchor=\"middle\" y=\"397.0\">\n",
              "    <tspan class=\"displacy-word\" fill=\"currentColor\" x=\"1625\">for</tspan>\n",
              "    <tspan class=\"displacy-tag\" dy=\"2em\" fill=\"currentColor\" x=\"1625\">ADP</tspan>\n",
              "</text>\n",
              "\n",
              "<text class=\"displacy-token\" fill=\"currentColor\" text-anchor=\"middle\" y=\"397.0\">\n",
              "    <tspan class=\"displacy-word\" fill=\"currentColor\" x=\"1800\">the</tspan>\n",
              "    <tspan class=\"displacy-tag\" dy=\"2em\" fill=\"currentColor\" x=\"1800\">DET</tspan>\n",
              "</text>\n",
              "\n",
              "<text class=\"displacy-token\" fill=\"currentColor\" text-anchor=\"middle\" y=\"397.0\">\n",
              "    <tspan class=\"displacy-word\" fill=\"currentColor\" x=\"1975\">last</tspan>\n",
              "    <tspan class=\"displacy-tag\" dy=\"2em\" fill=\"currentColor\" x=\"1975\">ADJ</tspan>\n",
              "</text>\n",
              "\n",
              "<text class=\"displacy-token\" fill=\"currentColor\" text-anchor=\"middle\" y=\"397.0\">\n",
              "    <tspan class=\"displacy-word\" fill=\"currentColor\" x=\"2150\">3</tspan>\n",
              "    <tspan class=\"displacy-tag\" dy=\"2em\" fill=\"currentColor\" x=\"2150\">NUM</tspan>\n",
              "</text>\n",
              "\n",
              "<text class=\"displacy-token\" fill=\"currentColor\" text-anchor=\"middle\" y=\"397.0\">\n",
              "    <tspan class=\"displacy-word\" fill=\"currentColor\" x=\"2325\">years?</tspan>\n",
              "    <tspan class=\"displacy-tag\" dy=\"2em\" fill=\"currentColor\" x=\"2325\">NOUN</tspan>\n",
              "</text>\n",
              "\n",
              "<g class=\"displacy-arrow\">\n",
              "    <path class=\"displacy-arc\" id=\"arrow-0c448be210534f5284b6bcd674c0f7a8-0-0\" stroke-width=\"2px\" d=\"M70,352.0 C70,264.5 210.0,264.5 210.0,352.0\" fill=\"none\" stroke=\"currentColor\"/>\n",
              "    <text dy=\"1.25em\" style=\"font-size: 0.8em; letter-spacing: 1px\">\n",
              "        <textPath xlink:href=\"#arrow-0c448be210534f5284b6bcd674c0f7a8-0-0\" class=\"displacy-label\" startOffset=\"50%\" side=\"left\" fill=\"currentColor\" text-anchor=\"middle\">attr</textPath>\n",
              "    </text>\n",
              "    <path class=\"displacy-arrowhead\" d=\"M70,354.0 L62,342.0 78,342.0\" fill=\"currentColor\"/>\n",
              "</g>\n",
              "\n",
              "<g class=\"displacy-arrow\">\n",
              "    <path class=\"displacy-arc\" id=\"arrow-0c448be210534f5284b6bcd674c0f7a8-0-1\" stroke-width=\"2px\" d=\"M420,352.0 C420,264.5 560.0,264.5 560.0,352.0\" fill=\"none\" stroke=\"currentColor\"/>\n",
              "    <text dy=\"1.25em\" style=\"font-size: 0.8em; letter-spacing: 1px\">\n",
              "        <textPath xlink:href=\"#arrow-0c448be210534f5284b6bcd674c0f7a8-0-1\" class=\"displacy-label\" startOffset=\"50%\" side=\"left\" fill=\"currentColor\" text-anchor=\"middle\">det</textPath>\n",
              "    </text>\n",
              "    <path class=\"displacy-arrowhead\" d=\"M420,354.0 L412,342.0 428,342.0\" fill=\"currentColor\"/>\n",
              "</g>\n",
              "\n",
              "<g class=\"displacy-arrow\">\n",
              "    <path class=\"displacy-arc\" id=\"arrow-0c448be210534f5284b6bcd674c0f7a8-0-2\" stroke-width=\"2px\" d=\"M245,352.0 C245,177.0 565.0,177.0 565.0,352.0\" fill=\"none\" stroke=\"currentColor\"/>\n",
              "    <text dy=\"1.25em\" style=\"font-size: 0.8em; letter-spacing: 1px\">\n",
              "        <textPath xlink:href=\"#arrow-0c448be210534f5284b6bcd674c0f7a8-0-2\" class=\"displacy-label\" startOffset=\"50%\" side=\"left\" fill=\"currentColor\" text-anchor=\"middle\">nsubj</textPath>\n",
              "    </text>\n",
              "    <path class=\"displacy-arrowhead\" d=\"M565.0,354.0 L573.0,342.0 557.0,342.0\" fill=\"currentColor\"/>\n",
              "</g>\n",
              "\n",
              "<g class=\"displacy-arrow\">\n",
              "    <path class=\"displacy-arc\" id=\"arrow-0c448be210534f5284b6bcd674c0f7a8-0-3\" stroke-width=\"2px\" d=\"M595,352.0 C595,264.5 735.0,264.5 735.0,352.0\" fill=\"none\" stroke=\"currentColor\"/>\n",
              "    <text dy=\"1.25em\" style=\"font-size: 0.8em; letter-spacing: 1px\">\n",
              "        <textPath xlink:href=\"#arrow-0c448be210534f5284b6bcd674c0f7a8-0-3\" class=\"displacy-label\" startOffset=\"50%\" side=\"left\" fill=\"currentColor\" text-anchor=\"middle\">prep</textPath>\n",
              "    </text>\n",
              "    <path class=\"displacy-arrowhead\" d=\"M735.0,354.0 L743.0,342.0 727.0,342.0\" fill=\"currentColor\"/>\n",
              "</g>\n",
              "\n",
              "<g class=\"displacy-arrow\">\n",
              "    <path class=\"displacy-arc\" id=\"arrow-0c448be210534f5284b6bcd674c0f7a8-0-4\" stroke-width=\"2px\" d=\"M770,352.0 C770,264.5 910.0,264.5 910.0,352.0\" fill=\"none\" stroke=\"currentColor\"/>\n",
              "    <text dy=\"1.25em\" style=\"font-size: 0.8em; letter-spacing: 1px\">\n",
              "        <textPath xlink:href=\"#arrow-0c448be210534f5284b6bcd674c0f7a8-0-4\" class=\"displacy-label\" startOffset=\"50%\" side=\"left\" fill=\"currentColor\" text-anchor=\"middle\">pobj</textPath>\n",
              "    </text>\n",
              "    <path class=\"displacy-arrowhead\" d=\"M910.0,354.0 L918.0,342.0 902.0,342.0\" fill=\"currentColor\"/>\n",
              "</g>\n",
              "\n",
              "<g class=\"displacy-arrow\">\n",
              "    <path class=\"displacy-arc\" id=\"arrow-0c448be210534f5284b6bcd674c0f7a8-0-5\" stroke-width=\"2px\" d=\"M595,352.0 C595,177.0 1090.0,177.0 1090.0,352.0\" fill=\"none\" stroke=\"currentColor\"/>\n",
              "    <text dy=\"1.25em\" style=\"font-size: 0.8em; letter-spacing: 1px\">\n",
              "        <textPath xlink:href=\"#arrow-0c448be210534f5284b6bcd674c0f7a8-0-5\" class=\"displacy-label\" startOffset=\"50%\" side=\"left\" fill=\"currentColor\" text-anchor=\"middle\">prep</textPath>\n",
              "    </text>\n",
              "    <path class=\"displacy-arrowhead\" d=\"M1090.0,354.0 L1098.0,342.0 1082.0,342.0\" fill=\"currentColor\"/>\n",
              "</g>\n",
              "\n",
              "<g class=\"displacy-arrow\">\n",
              "    <path class=\"displacy-arc\" id=\"arrow-0c448be210534f5284b6bcd674c0f7a8-0-6\" stroke-width=\"2px\" d=\"M1120,352.0 C1120,264.5 1260.0,264.5 1260.0,352.0\" fill=\"none\" stroke=\"currentColor\"/>\n",
              "    <text dy=\"1.25em\" style=\"font-size: 0.8em; letter-spacing: 1px\">\n",
              "        <textPath xlink:href=\"#arrow-0c448be210534f5284b6bcd674c0f7a8-0-6\" class=\"displacy-label\" startOffset=\"50%\" side=\"left\" fill=\"currentColor\" text-anchor=\"middle\">pobj</textPath>\n",
              "    </text>\n",
              "    <path class=\"displacy-arrowhead\" d=\"M1260.0,354.0 L1268.0,342.0 1252.0,342.0\" fill=\"currentColor\"/>\n",
              "</g>\n",
              "\n",
              "<g class=\"displacy-arrow\">\n",
              "    <path class=\"displacy-arc\" id=\"arrow-0c448be210534f5284b6bcd674c0f7a8-0-7\" stroke-width=\"2px\" d=\"M1295,352.0 C1295,264.5 1435.0,264.5 1435.0,352.0\" fill=\"none\" stroke=\"currentColor\"/>\n",
              "    <text dy=\"1.25em\" style=\"font-size: 0.8em; letter-spacing: 1px\">\n",
              "        <textPath xlink:href=\"#arrow-0c448be210534f5284b6bcd674c0f7a8-0-7\" class=\"displacy-label\" startOffset=\"50%\" side=\"left\" fill=\"currentColor\" text-anchor=\"middle\">appos</textPath>\n",
              "    </text>\n",
              "    <path class=\"displacy-arrowhead\" d=\"M1435.0,354.0 L1443.0,342.0 1427.0,342.0\" fill=\"currentColor\"/>\n",
              "</g>\n",
              "\n",
              "<g class=\"displacy-arrow\">\n",
              "    <path class=\"displacy-arc\" id=\"arrow-0c448be210534f5284b6bcd674c0f7a8-0-8\" stroke-width=\"2px\" d=\"M595,352.0 C595,89.5 1620.0,89.5 1620.0,352.0\" fill=\"none\" stroke=\"currentColor\"/>\n",
              "    <text dy=\"1.25em\" style=\"font-size: 0.8em; letter-spacing: 1px\">\n",
              "        <textPath xlink:href=\"#arrow-0c448be210534f5284b6bcd674c0f7a8-0-8\" class=\"displacy-label\" startOffset=\"50%\" side=\"left\" fill=\"currentColor\" text-anchor=\"middle\">prep</textPath>\n",
              "    </text>\n",
              "    <path class=\"displacy-arrowhead\" d=\"M1620.0,354.0 L1628.0,342.0 1612.0,342.0\" fill=\"currentColor\"/>\n",
              "</g>\n",
              "\n",
              "<g class=\"displacy-arrow\">\n",
              "    <path class=\"displacy-arc\" id=\"arrow-0c448be210534f5284b6bcd674c0f7a8-0-9\" stroke-width=\"2px\" d=\"M1820,352.0 C1820,89.5 2320.0,89.5 2320.0,352.0\" fill=\"none\" stroke=\"currentColor\"/>\n",
              "    <text dy=\"1.25em\" style=\"font-size: 0.8em; letter-spacing: 1px\">\n",
              "        <textPath xlink:href=\"#arrow-0c448be210534f5284b6bcd674c0f7a8-0-9\" class=\"displacy-label\" startOffset=\"50%\" side=\"left\" fill=\"currentColor\" text-anchor=\"middle\">det</textPath>\n",
              "    </text>\n",
              "    <path class=\"displacy-arrowhead\" d=\"M1820,354.0 L1812,342.0 1828,342.0\" fill=\"currentColor\"/>\n",
              "</g>\n",
              "\n",
              "<g class=\"displacy-arrow\">\n",
              "    <path class=\"displacy-arc\" id=\"arrow-0c448be210534f5284b6bcd674c0f7a8-0-10\" stroke-width=\"2px\" d=\"M1995,352.0 C1995,177.0 2315.0,177.0 2315.0,352.0\" fill=\"none\" stroke=\"currentColor\"/>\n",
              "    <text dy=\"1.25em\" style=\"font-size: 0.8em; letter-spacing: 1px\">\n",
              "        <textPath xlink:href=\"#arrow-0c448be210534f5284b6bcd674c0f7a8-0-10\" class=\"displacy-label\" startOffset=\"50%\" side=\"left\" fill=\"currentColor\" text-anchor=\"middle\">amod</textPath>\n",
              "    </text>\n",
              "    <path class=\"displacy-arrowhead\" d=\"M1995,354.0 L1987,342.0 2003,342.0\" fill=\"currentColor\"/>\n",
              "</g>\n",
              "\n",
              "<g class=\"displacy-arrow\">\n",
              "    <path class=\"displacy-arc\" id=\"arrow-0c448be210534f5284b6bcd674c0f7a8-0-11\" stroke-width=\"2px\" d=\"M2170,352.0 C2170,264.5 2310.0,264.5 2310.0,352.0\" fill=\"none\" stroke=\"currentColor\"/>\n",
              "    <text dy=\"1.25em\" style=\"font-size: 0.8em; letter-spacing: 1px\">\n",
              "        <textPath xlink:href=\"#arrow-0c448be210534f5284b6bcd674c0f7a8-0-11\" class=\"displacy-label\" startOffset=\"50%\" side=\"left\" fill=\"currentColor\" text-anchor=\"middle\">nummod</textPath>\n",
              "    </text>\n",
              "    <path class=\"displacy-arrowhead\" d=\"M2170,354.0 L2162,342.0 2178,342.0\" fill=\"currentColor\"/>\n",
              "</g>\n",
              "\n",
              "<g class=\"displacy-arrow\">\n",
              "    <path class=\"displacy-arc\" id=\"arrow-0c448be210534f5284b6bcd674c0f7a8-0-12\" stroke-width=\"2px\" d=\"M1645,352.0 C1645,2.0 2325.0,2.0 2325.0,352.0\" fill=\"none\" stroke=\"currentColor\"/>\n",
              "    <text dy=\"1.25em\" style=\"font-size: 0.8em; letter-spacing: 1px\">\n",
              "        <textPath xlink:href=\"#arrow-0c448be210534f5284b6bcd674c0f7a8-0-12\" class=\"displacy-label\" startOffset=\"50%\" side=\"left\" fill=\"currentColor\" text-anchor=\"middle\">pobj</textPath>\n",
              "    </text>\n",
              "    <path class=\"displacy-arrowhead\" d=\"M2325.0,354.0 L2333.0,342.0 2317.0,342.0\" fill=\"currentColor\"/>\n",
              "</g>\n",
              "</svg></span>"
            ]
          },
          "metadata": {}
        },
        {
          "output_type": "stream",
          "name": "stdout",
          "text": [
            "Columbia - labeled as GPE\n",
            "Missouri - labeled as GPE\n",
            "the last 3 years - labeled as DATE\n"
          ]
        }
      ]
    },
    {
      "cell_type": "markdown",
      "source": [
        "#**Prepare training data**"
      ],
      "metadata": {
        "id": "DKijvsTF-hZ9"
      }
    },
    {
      "cell_type": "code",
      "source": [
        "with open(\"health.txt\", \"w\", encoding=\"utf-8\") as file:\n",
        "  file.write(wikipedia.page(\"health\").content)"
      ],
      "metadata": {
        "id": "W5E0SjIDY1S3"
      },
      "execution_count": null,
      "outputs": []
    },
    {
      "cell_type": "code",
      "source": [
        "wikipedia.page(\"healthcare\").content"
      ],
      "metadata": {
        "colab": {
          "base_uri": "https://localhost:8080/",
          "height": 122
        },
        "id": "E5ZtZ2JlZu7Y",
        "outputId": "a61d660b-f186-4e80-ad17-7a3a546b0864"
      },
      "execution_count": null,
      "outputs": [
        {
          "output_type": "execute_result",
          "data": {
            "text/plain": [
              "'Health care, or healthcare, is the improvement of health via the prevention, diagnosis, treatment, amelioration or cure of disease, illness, injury, and other physical and mental impairments in people. Health care is delivered by health professionals and allied health fields. Medicine, dentistry, pharmacy, midwifery, nursing, optometry, audiology, psychology, occupational therapy, physical therapy, athletic training, and other health professions all constitute health care. The term includes work done in providing primary care, secondary care, tertiary care, and public health.\\nAccess to healthcare may vary across countries, communities, and individuals, influenced by social and economic conditions and health policies. Providing health care services means \"the timely use of personal health services to achieve the best possible health outcomes\". Factors to consider in terms of healthcare access include financial limitations (such as insurance coverage), geographical and logistical barriers (such as additional transportation costs and the ability to take paid time off work to use such services), sociocultural expectations, and personal limitations (lack of ability to communicate with health care providers, poor health literacy, low income). Limitations to health care services affect negatively the use of medical services, the efficacy of treatments, and overall outcome (well-being, mortality rates).\\nHealth systems are the organizations established to meet the health needs of targeted populations. According to the World Health Organization (WHO), a well-functioning healthcare system requires a financing mechanism, a well-trained and adequately paid workforce, reliable information on which to base decisions and policies, and well-maintained health facilities to deliver quality medicines and technologies.\\nAn efficient healthcare system can contribute to a significant part of a country\\'s economy, development, and industrialization. Health care is an important determinant in promoting the general physical and mental health and well-being of people around the world. An example of this was the worldwide eradication of smallpox in 1980, declared by the WHO, as the first disease in human history to be eliminated by deliberate healthcare interventions.\\n\\n\\n== Delivery ==\\n\\nThe delivery of modern health care depends on groups of trained professionals and paraprofessionals coming together as interdisciplinary teams. This includes professionals in medicine, psychology, physiotherapy, nursing, dentistry, midwifery and allied health, along with many others such as public health practitioners, community health workers and assistive personnel, who systematically provide personal and population-based preventive, curative and rehabilitative care services.\\nWhile the definitions of the various types of health care vary depending on the different cultural, political, organizational, and disciplinary perspectives, there appears to be some consensus that primary care constitutes the first element of a continuing health care process and may also include the provision of secondary and tertiary levels of care. Health care can be defined as either public or private.\\n\\n\\n=== Primary care ===\\n\\nPrimary care refers to the work of health professionals who act as a first point of consultation for all patients within the health care system. The primary care model supports first-contact, accessible, continuous, comprehensive and coordinated person-focused care. Such a professional would usually be a primary care physician, such as a general practitioner or family physician. Another professional would be a licensed independent practitioner such as a physiotherapist, or a non-physician primary care provider such as a physician assistant or nurse practitioner. Depending on the locality and health system organization, the patient may see another health care professional first, such as a pharmacist or nurse. Depending on the nature of the health condition, patients may be referred for secondary or tertiary care.\\nPrimary care is often used as the term for the health care services that play a role in the local community. It can be provided in different settings, such as Urgent care centers that provide same-day appointments or services on a walk-in basis.\\nPrimary care involves the widest scope of health care, including all ages of patients, patients of all socioeconomic and geographic origins, patients seeking to maintain optimal health, and patients with all types of acute and chronic physical, mental and social health issues, including multiple chronic diseases. Consequently, a primary care practitioner must possess a wide breadth of knowledge in many areas. Continuity is a key characteristic of primary care, as patients usually prefer to consult the same practitioner for routine check-ups and preventive care, health education, and every time they require an initial consultation about a new health problem. The International Classification of Primary Care (ICPC) is a standardized tool for understanding and analyzing information on interventions in primary care based on the reason for the patient\\'s visit.\\nCommon chronic illnesses usually treated in primary care may include, for example, hypertension, diabetes, asthma, COPD, depression and anxiety, back pain, arthritis or thyroid dysfunction. Primary care also includes many basic maternal and child health care services, such as family planning services and vaccinations. In the United States, the 2013 National Health Interview Survey found that skin disorders (42.7%), osteoarthritis and joint disorders (33.6%), back problems (23.9%), disorders of lipid metabolism (22.4%), and upper respiratory tract disease (22.1%, excluding asthma) were the most common reasons for accessing a physician.\\nIn the United States, primary care physicians have begun to deliver primary care outside of the managed care (insurance-billing) system through direct primary care which is a subset of the more familiar concierge medicine. Physicians in this model bill patients directly for services, either on a pre-paid monthly, quarterly, or annual basis, or bill for each service in the office. Examples of direct primary care practices include Foundation Health in Colorado and Qliance in Washington.\\nIn the context of global population aging, with increasing numbers of older adults at greater risk of chronic non-communicable diseases, rapidly increasing demand for primary care services is expected in both developed and developing countries. The World Health Organization attributes the provision of essential primary care as an integral component of an inclusive primary health care strategy.\\n\\n\\n=== Secondary care ===\\n\\nSecondary care includes acute care: necessary treatment for a short period of time for a brief but serious illness, injury, or other health condition. This care is often found in a hospital emergency department. Secondary care also includes skilled attendance during childbirth, intensive care, and medical imaging services.\\nThe term \"secondary care\" is sometimes used synonymously with \"hospital care\". However, many secondary care providers, such as psychiatrists, clinical psychologists, occupational therapists, most dental specialties or physiotherapists, do not necessarily work in hospitals. Some primary care services are delivered within hospitals. Depending on the organization and policies of the national health system, patients may be required to see a primary care provider for a referral before they can access secondary care.\\nIn countries that operate under a mixed market health care system, some physicians limit their practice to secondary care by requiring patients to see a primary care provider first. This restriction may be imposed under the terms of the payment agreements in private or group health insurance plans. In other cases, medical specialists may see patients without a referral, and patients may decide whether self-referral is preferred.\\nIn other countries patient self-referral to a medical specialist for secondary care is rare as prior referral from another physician (either a primary care physician or another specialist) is considered necessary, regardless of whether the funding is from private insurance schemes or national health insurance.\\nAllied health professionals, such as physical therapists, respiratory therapists, occupational therapists, speech therapists, and dietitians, also generally work in secondary care, accessed through either patient self-referral or through physician referral.\\n\\n\\n=== Tertiary care ===\\n\\nTertiary care is specialized consultative health care, usually for inpatients and on referral from a primary or secondary health professional, in a facility that has personnel and facilities for advanced medical investigation and treatment, such as a tertiary referral hospital.\\nExamples of tertiary care services are cancer management, neurosurgery, cardiac surgery, plastic surgery, treatment for severe burns, advanced neonatology services, palliative, and other complex medical and surgical interventions.\\n\\n\\n=== Quaternary care ===\\nThe term quaternary care is sometimes used as an extension of tertiary care in reference to advanced levels of medicine which are highly specialized and not widely accessed. Experimental medicine and some types of uncommon diagnostic or surgical procedures are considered quaternary care. These services are usually only offered in a limited number of regional or national health care centers.\\n\\n\\n=== Home and community care ===\\n\\nMany types of health care interventions are delivered outside of health facilities. They include many interventions of public health interest, such as food safety surveillance, distribution of condoms and needle-exchange programs for the prevention of transmissible diseases.\\nThey also include the services of professionals in residential and community settings in support of self-care, home care, long-term care, assisted living, treatment for substance use disorders among other types of health and social care services.\\nCommunity rehabilitation services can assist with mobility and independence after the loss of limbs or loss of function. This can include prostheses, orthotics, or wheelchairs.\\nMany countries are dealing with aging populations, so one of the priorities of the health care system is to help seniors live full, independent lives in the comfort of their own homes. There is an entire section of health care geared to providing seniors with help in day-to-day activities at home such as transportation to and from doctor\\'s appointments along with many other activities that are essential for their health and well-being. Although they provide home care for older adults in cooperation, family members and care workers may harbor diverging attitudes and values towards their joint efforts. This state of affairs presents a challenge for the design of ICT (information and communication technology) for home care.\\nBecause statistics show that over 80 million Americans have taken time off of their primary employment to care for a loved one, many countries have begun offering programs such as the Consumer Directed Personal Assistant Program to allow family members to take care of their loved ones without giving up their entire income.\\nWith obesity in children rapidly becoming a major concern, health services often set up programs in schools aimed at educating children about nutritional eating habits, making physical education a requirement and teaching young adolescents to have a positive self-image.\\n\\n\\n=== Ratings ===\\n\\nHealth care ratings are ratings or evaluations of health care used to evaluate the process of care and health care structures and/or outcomes of health care services. This information is translated into report cards that are generated by quality organizations, nonprofit, consumer groups and media. This evaluation of quality is based on measures of:\\n\\nhealth plan quality\\nhospital quality\\nof patient experience\\nphysician quality\\nquality for other health professionals\\n\\n\\n== Access to health care ==\\n\\nAccess to healthcare may vary across countries, communities, and individuals, influenced by social and economic conditions as well as health policies. Providing health care services means \"the timely use of personal health services to achieve the best possible health outcomes\". Factors to consider in terms of healthcare access include financial limitations (such as insurance coverage), geographical and logistical barriers (such as additional transportation costs and the ability to take paid time off work to use such services), sociocultural expectations, and personal limitations (lack of ability to communicate with health care providers, poor health literacy, low income). Limitations to health care services affects negatively the use of medical services, the efficacy of treatments, and overall outcome (well-being, mortality rates).\\n\\n\\n== Related sectors ==\\nHealth care extends beyond the delivery of services to patients, encompassing many related sectors, and is set within a bigger picture of financing and governance structures.\\n\\n\\n=== Health system ===\\n\\nA health system, also sometimes referred to as health care system or healthcare system, is the organization of people, institutions, and resources that deliver health care services to populations in need.\\n\\n\\n=== Industry ===\\n\\nThe healthcare industry incorporates several sectors that are dedicated to providing health care services and products. As a basic framework for defining the sector, the United Nations\\' International Standard Industrial Classification categorizes health care as generally consisting of hospital activities, medical and dental practice activities, and \"other human health activities.\" The last class involves activities of, or under the supervision of, nurses, midwives, physiotherapists, scientific or diagnostic laboratories, pathology clinics, residential health facilities, patient advocates or other allied health professions.\\nIn addition, according to industry and market classifications, such as the Global Industry Classification Standard and the Industry Classification Benchmark, health care includes many categories of medical equipment, instruments and services including biotechnology, diagnostic laboratories and substances, drug manufacturing and delivery.\\nFor example, pharmaceuticals and other medical devices are the leading high technology exports of Europe and the United States. The United States dominates the biopharmaceutical field, accounting for three-quarters of the world\\'s biotechnology revenues.\\n\\n\\n=== Research ===\\n\\nThe quantity and quality of many health care interventions are improved through the results of science, such as advanced through the medical model of health which focuses on the eradication of illness through diagnosis and effective treatment. Many important advances have been made through health research, biomedical research and pharmaceutical research, which form the basis for evidence-based medicine and evidence-based practice in health care delivery. Health care research frequently engages directly with patients, and as such issues for whom to engage and how to engage with them become important to consider when seeking to actively include them in studies. While single best practice does not exist, the results of a systematic review on patient engagement suggest that research methods for patient selection need to account for both patient availability and willingness to engage.\\nHealth services research can lead to greater efficiency and equitable delivery of health care interventions, as advanced through the social model of health and disability, which emphasizes the societal changes that can be made to make populations healthier. Results from health services research often form the basis of evidence-based policy in health care systems. Health services research is also aided by initiatives in the field of artificial intelligence for the development of systems of health assessment that are clinically useful, timely, sensitive to change, culturally sensitive, low-burden, low-cost, built into standard procedures, and involve the patient.\\n\\n\\n=== Financing ===\\n\\nThere are generally five primary methods of funding health care systems:\\n\\nGeneral taxation to the state, county or municipality\\nSocial health insurance\\nVoluntary or private health insurance\\nOut-of-pocket payments\\nDonations to health charities\\n\\nIn most countries, there is a mix of all five models, but this varies across countries and over time within countries. Aside from financing mechanisms, an important question should always be how much to spend on health care. For the purposes of comparison, this is often expressed as the percentage of GDP spent on health care. In OECD countries for every extra $1000 spent on health care, life expectancy falls by 0.4 years. A similar correlation is seen from the analysis carried out each year by Bloomberg. Clearly this kind of analysis is flawed in that life expectancy is only one measure of a health system\\'s performance, but equally, the notion that more funding is better is not supported.\\nIn 2011, the health care industry consumed an average of 9.3 percent of the GDP or US$ 3,322 (PPP-adjusted) per capita across the 34 members of OECD countries. The US (17.7%, or US$ PPP 8,508), the Netherlands (11.9%, 5,099), France (11.6%, 4,118), Germany (11.3%, 4,495), Canada (11.2%, 5669), and Switzerland (11%, 5,634) were the top spenders, however life expectancy in total population at birth was highest in Switzerland (82.8 years), Japan and Italy (82.7), Spain and Iceland (82.4), France (82.2) and Australia (82.0), while OECD\\'s average exceeds 80 years for the first time ever in 2011: 80.1 years, a gain of 10 years since 1970. The US (78.7 years) ranges only on place 26 among the 34 OECD member countries, but has the highest costs by far. All OECD countries have achieved universal (or almost universal) health coverage, except the US and Mexico. (see also international comparisons.)\\nIn the United States, where around 18% of GDP is spent on health care, the Commonwealth Fund analysis of spend and quality shows a clear correlation between worse quality and higher spending.\\nExpand the OECD charts below to see the breakdown:\\n\\n\"Government/compulsory\": Government spending and compulsory health insurance.\\n\"Voluntary\": Voluntary health insurance and private funds such as households\\' out-of-pocket payments, NGOs and private corporations.\\nThey are represented by columns starting at zero. They are not stacked. The 2 are combined to get the total.\\nAt the source you can run your cursor over the columns to get the year and the total for that country.\\nClick the table tab at the source to get 3 lists (one after another) of amounts by country: \"Total\", \"Government/compulsory\", and \"Voluntary\".\\n\\n\\n=== Administration and regulation ===\\n\\nThe management and administration of health care is vital to the delivery of health care services. In particular, the practice of health professionals and the operation of health care institutions is typically regulated by national or state/provincial authorities through appropriate regulatory bodies for purposes of quality assurance. Most countries have credentialing staff in regulatory boards or health departments who document the certification or licensing of health workers and their work history.\\n\\n\\n=== Health information technology ===\\n\\nHealth information technology (HIT) is \"the application of information processing involving both computer hardware and software that deals with the storage, retrieval, sharing, and use of health care information, data, and knowledge for communication and decision making.\"\\nHealth information technology components:\\n\\nElectronic health record (EHR) – An EHR contains a patient\\'s comprehensive medical history, and may include records from multiple providers.\\nElectronic Medical Record (EMR) – An EMR contains the standard medical and clinical data gathered in one\\'s provider\\'s office.\\nHealth information exchange (HIE) – Health Information Exchange allows health care professionals and patients to appropriately access and securely share a patient\\'s vital medical information electronically.\\nMedical practice management software (MPM) – is designed to streamline the day-to-day tasks of operating a medical facility. Also known as practice management software or practice management system (PMS).\\nPersonal health record (PHR) – A PHR is a patient\\'s medical history that is maintained privately, for personal use.\\n\\n\\n== See also ==\\nCategory:Health care by country\\nGlobal health\\nHealth equity\\nHealth policy\\nHealthcare system / Health professionals\\nTobacco control laws\\nUniversal health care\\n\\n\\n== References ==\\n\\n\\n== External links ==\\n\\n Media related to Health care at Wikimedia Commons\\n Travel health travel guide from Wikivoyage'"
            ],
            "application/vnd.google.colaboratory.intrinsic+json": {
              "type": "string"
            }
          },
          "metadata": {},
          "execution_count": 77
        }
      ]
    },
    {
      "cell_type": "code",
      "source": [
        "ISO_dataframe = pandas.read_json(\"/content/drive/MyDrive/College/Research/Su2024/ISO CategoriesWiki.json\")"
      ],
      "metadata": {
        "id": "okkYgehg3AQN"
      },
      "execution_count": null,
      "outputs": []
    },
    {
      "cell_type": "code",
      "source": [
        "def write_to_txt(dataframe) -> list:\n",
        "  error_rows = []\n",
        "  for rowNum, row in dataframe.iterrows():\n",
        "    category = row[\"Cat Name\"]\n",
        "    try:\n",
        "      with open(f\"/content/drive/MyDrive/Su2024/SpacyISO/{category}.txt\", \"w\", encoding='utf-8') as file:\n",
        "        file.write(row[\"Wikipedia\"])\n",
        "    except:\n",
        "      print(category)\n",
        "      error_rows.append(category)\n",
        "  return error_rows"
      ],
      "metadata": {
        "id": "7kEIZ5iSybUy"
      },
      "execution_count": null,
      "outputs": []
    },
    {
      "cell_type": "code",
      "source": [
        "error_rows = write_to_txt(ISO_dataframe)"
      ],
      "metadata": {
        "id": "v0qeeUwmzN8b"
      },
      "execution_count": null,
      "outputs": []
    },
    {
      "cell_type": "code",
      "source": [
        "error_rows = ['information pertaining to earth sciences Examples: geophysical features and processes, geology, minerals, sciences dealing with the composition, structure and origin of the earth’s rocks, risks of earthquakes, volcanic activity, landslides, gravity information, soils, permafrost, hydrogeology, erosion', 'political and administrative boundaries', 'revenue', 'altitude', 'slope', 'pollution', 'sciences dealing with composition', 'gravity', 'erosion', 'substance abuse', 'water utilization plans', 'recreational areas and activities', 'airports/airstrips', 'tunnels nautical charts', 'data communication']"
      ],
      "metadata": {
        "id": "A3kkNYag12bT"
      },
      "execution_count": null,
      "outputs": []
    },
    {
      "cell_type": "code",
      "source": [
        "def generate_random_color() -> str:\n",
        "  # Generating a random number in between 0 and 2^24\n",
        "  color = randrange(0, 2**24)\n",
        "  # Converting that number from base-10 (decimal) to base-16 (hexadecimal)\n",
        "  return hex(color).replace(\"0x\", \"#\")"
      ],
      "metadata": {
        "id": "DukXANRmoGnV"
      },
      "execution_count": null,
      "outputs": []
    },
    {
      "cell_type": "code",
      "source": [
        "def write_to_json(data, filename):\n",
        "  with open(f\"./SpacyISO/{filename}.json\", \"w\", encoding='utf-8') as file:\n",
        "    json.dump(data, file)"
      ],
      "metadata": {
        "id": "ALkW46Jz_wxC"
      },
      "execution_count": null,
      "outputs": []
    },
    {
      "cell_type": "code",
      "source": [
        "def read_from_json(filename):\n",
        "  with open(f\"./SpacyISO/{filename}.json\", \"r\", encoding='utf-8') as file:\n",
        "    data = json.load(file)\n",
        "  return data"
      ],
      "metadata": {
        "id": "SGo5AZDk8ppV"
      },
      "execution_count": null,
      "outputs": []
    },
    {
      "cell_type": "code",
      "source": [
        "def remove_empty_entities(data):\n",
        "  data[\"annotations\"] = [label for label in data[\"annotations\"] if label[1][\"entities\"]]\n",
        "  return data"
      ],
      "metadata": {
        "id": "Ii-8T2BSAz0-"
      },
      "execution_count": null,
      "outputs": []
    },
    {
      "cell_type": "code",
      "source": [
        "def list_to_tuple(data):\n",
        "  for annotation in data[\"annotations\"]:\n",
        "    entity_labels = annotation[1][\"entities\"]\n",
        "    tuple_labels = []\n",
        "    for entity_label in entity_labels:\n",
        "      tuple_labels.append(tuple(entity_label))\n",
        "    annotation[1][\"entities\"] = tuple_labels\n",
        "  return data"
      ],
      "metadata": {
        "id": "4VaWMN2S-UMS"
      },
      "execution_count": null,
      "outputs": []
    },
    {
      "cell_type": "code",
      "source": [
        "def to_tuple(data):\n",
        "  for i in range(0, len(data)):\n",
        "    data[i][\"entities\"] = [(entity[0], entity[1], entity[2]) for entity in data[i][\"entities\"]]\n",
        "  return data"
      ],
      "metadata": {
        "id": "BGMxPRYFFpa6"
      },
      "execution_count": null,
      "outputs": []
    },
    {
      "cell_type": "code",
      "source": [
        "def list_to_dict(data):\n",
        "  annotations = []\n",
        "  for annotation in data[\"annotations\"]:\n",
        "    dictionary = {\"text\": annotation[0], \"entities\": annotation[1][\"entities\"]}\n",
        "    annotations.append(dictionary)\n",
        "  data[\"annotations\"] = annotations\n",
        "  return data"
      ],
      "metadata": {
        "id": "XIQU-RXQBBN0"
      },
      "execution_count": null,
      "outputs": []
    },
    {
      "cell_type": "code",
      "source": [
        "def spacy_train_format(ISO_Category: str):\n",
        "  data = read_from_json(ISO_Category)\n",
        "  data = remove_empty_entities(data)\n",
        "  data = list_to_tuple(data)\n",
        "  data = list_to_dict(data)\n",
        "  write_to_json(data[\"annotations\"], data[\"classes\"][0]) # Write only \"annotations\" dict item. Use \"classes\"'s entity type name to be JSON file's name\n",
        "  data = read_from_json(ISO_Category.upper()) # Read created JSON file\n",
        "  return data"
      ],
      "metadata": {
        "id": "LE-9ZqNZkaNZ"
      },
      "execution_count": null,
      "outputs": []
    },
    {
      "cell_type": "code",
      "source": [
        "def add_roberta_labels(data):\n",
        "  roberta = load(\"en_core_web_trf\") # Model should be saved in ./ folder\n",
        "  data = to_tuple(data)\n",
        "  for i in range(0, len(data)):\n",
        "    labeled_document = roberta(data[i][\"text\"])\n",
        "    for labeled in labeled_document.ents:\n",
        "      data[i][\"entities\"].append((labeled.start_char, labeled.end_char, labeled.label_))\n",
        "  return data"
      ],
      "metadata": {
        "id": "XPmwYfF-Woit"
      },
      "execution_count": null,
      "outputs": []
    },
    {
      "cell_type": "code",
      "source": [
        "def append_train_json(data):\n",
        "  train_data = read_from_json(\"train\")\n",
        "  for example in data:\n",
        "    train_data.append(example)\n",
        "  write_to_json(train_data, \"train\")\n",
        "  return read_from_json(\"train\")"
      ],
      "metadata": {
        "id": "-J2qTsiUfnmz"
      },
      "execution_count": null,
      "outputs": []
    },
    {
      "cell_type": "code",
      "source": [
        "def process_train_data(data):\n",
        "  data = add_roberta_labels(data)\n",
        "  data = append_train_json(data) # Add to json with all other ISO category training data, returns all training examples from all ISO categories\n",
        "  return data"
      ],
      "metadata": {
        "id": "NzubfhQUj0vi"
      },
      "execution_count": null,
      "outputs": []
    },
    {
      "cell_type": "code",
      "source": [
        "ISO_name = \"weather\""
      ],
      "metadata": {
        "id": "B2olMGv3VVVt"
      },
      "execution_count": null,
      "outputs": []
    },
    {
      "cell_type": "code",
      "source": [
        "data = spacy_train_format(ISO_name)\n",
        "data = process_train_data(data)\n",
        "data = read_from_json(\"train\")"
      ],
      "metadata": {
        "id": "1ckrAQS-UYQm"
      },
      "execution_count": null,
      "outputs": []
    },
    {
      "cell_type": "markdown",
      "source": [
        "#**Store spacy DocBin**"
      ],
      "metadata": {
        "id": "6aMMNxbjGS9X"
      }
    },
    {
      "cell_type": "code",
      "source": [
        "doc_bin_path = \"./train_folder\"\n",
        "nlp = load(doc_bin_path)\n",
        "doc_bin = DocBin()"
      ],
      "metadata": {
        "id": "BTrQZhP1Hxyi",
        "colab": {
          "base_uri": "https://localhost:8080/"
        },
        "outputId": "f9427081-0ab0-41ba-b97a-e9e7da000a77"
      },
      "execution_count": null,
      "outputs": [
        {
          "output_type": "stream",
          "name": "stderr",
          "text": [
            "/usr/local/lib/python3.10/dist-packages/transformers/utils/generic.py:441: UserWarning: torch.utils._pytree._register_pytree_node is deprecated. Please use torch.utils._pytree.register_pytree_node instead.\n",
            "  _torch_pytree._register_pytree_node(\n",
            "/usr/local/lib/python3.10/dist-packages/transformers/utils/generic.py:309: UserWarning: torch.utils._pytree._register_pytree_node is deprecated. Please use torch.utils._pytree.register_pytree_node instead.\n",
            "  _torch_pytree._register_pytree_node(\n"
          ]
        }
      ]
    },
    {
      "cell_type": "code",
      "source": [
        "for train_example in tqdm(data):\n",
        "  entities = []\n",
        "  document = nlp.make_doc(train_example[\"text\"])\n",
        "  entity_labels = train_example[\"entities\"]\n",
        "  for start, end, entity_label in entity_labels:\n",
        "    span = document.char_span(start, end, label=entity_label, alignment_mode=\"contract\")\n",
        "    if span is None:\n",
        "      print(\"Skipping\", (start, end, entity_label))\n",
        "    else:\n",
        "      entities.append(span)\n",
        "  filtered_entities = filter_spans(entities)\n",
        "  document.ents = filtered_entities\n",
        "  doc_bin.add(document)\n",
        "doc_bin.to_disk(doc_bin_path + \"/train.spacy\")"
      ],
      "metadata": {
        "colab": {
          "base_uri": "https://localhost:8080/"
        },
        "id": "rAuLt6Xw_brl",
        "outputId": "2d818778-b37c-4dea-868c-b5144e84cfb3"
      },
      "execution_count": null,
      "outputs": [
        {
          "output_type": "stream",
          "name": "stderr",
          "text": [
            "100%|██████████| 484/484 [00:00<00:00, 505.11it/s]\n"
          ]
        }
      ]
    },
    {
      "cell_type": "code",
      "source": [
        "!python -m spacy init fill-config /content/drive/MyDrive/Su2024/SpacyISO/base_config.cfg config.cfg"
      ],
      "metadata": {
        "id": "pSdqy-Q_JuX4",
        "colab": {
          "base_uri": "https://localhost:8080/"
        },
        "outputId": "d450d6c2-b1f8-46f1-92dc-e7871cd01ee6"
      },
      "execution_count": null,
      "outputs": [
        {
          "output_type": "stream",
          "name": "stdout",
          "text": [
            "/usr/local/lib/python3.10/dist-packages/transformers/utils/generic.py:441: UserWarning: torch.utils._pytree._register_pytree_node is deprecated. Please use torch.utils._pytree.register_pytree_node instead.\n",
            "  _torch_pytree._register_pytree_node(\n",
            "/usr/local/lib/python3.10/dist-packages/transformers/utils/generic.py:309: UserWarning: torch.utils._pytree._register_pytree_node is deprecated. Please use torch.utils._pytree.register_pytree_node instead.\n",
            "  _torch_pytree._register_pytree_node(\n",
            "\u001b[38;5;2m✔ Auto-filled config with all values\u001b[0m\n",
            "\u001b[38;5;2m✔ Saved config\u001b[0m\n",
            "config.cfg\n",
            "You can now add your data and train your pipeline:\n",
            "python -m spacy train config.cfg --paths.train ./train.spacy --paths.dev ./dev.spacy\n"
          ]
        }
      ]
    },
    {
      "cell_type": "code",
      "source": [
        "!python -m spacy train config.cfg --output ./ --paths.train /content/drive/MyDrive/Su2024/SpacyISO/train.spacy --paths.dev /content/drive/MyDrive/Su2024/SpacyISO/train.spacy"
      ],
      "metadata": {
        "colab": {
          "base_uri": "https://localhost:8080/"
        },
        "id": "JxQ2silnCQFc",
        "outputId": "bce676c2-c4ca-40ab-9fe0-79e7598c234b"
      },
      "execution_count": null,
      "outputs": [
        {
          "output_type": "stream",
          "name": "stdout",
          "text": [
            "/usr/local/lib/python3.10/dist-packages/transformers/utils/generic.py:441: UserWarning: torch.utils._pytree._register_pytree_node is deprecated. Please use torch.utils._pytree.register_pytree_node instead.\n",
            "  _torch_pytree._register_pytree_node(\n",
            "\u001b[38;5;4mℹ Saving to output directory: .\u001b[0m\n",
            "\u001b[38;5;4mℹ Using CPU\u001b[0m\n",
            "\u001b[1m\n",
            "=========================== Initializing pipeline ===========================\u001b[0m\n",
            "/usr/local/lib/python3.10/dist-packages/transformers/utils/generic.py:309: UserWarning: torch.utils._pytree._register_pytree_node is deprecated. Please use torch.utils._pytree.register_pytree_node instead.\n",
            "  _torch_pytree._register_pytree_node(\n",
            "\u001b[38;5;2m✔ Initialized pipeline\u001b[0m\n",
            "\u001b[1m\n",
            "============================= Training pipeline =============================\u001b[0m\n",
            "\u001b[38;5;4mℹ Pipeline: ['tok2vec', 'ner']\u001b[0m\n",
            "\u001b[38;5;4mℹ Initial learn rate: 0.001\u001b[0m\n",
            "E    #       LOSS TOK2VEC  LOSS NER  ENTS_F  ENTS_P  ENTS_R  SCORE \n",
            "---  ------  ------------  --------  ------  ------  ------  ------\n",
            "  0       0          0.00     36.45    0.00    0.00    0.00    0.00\n",
            "  0     200        565.47   5080.06   18.99   30.95   13.70    0.19\n",
            "  1     400       1272.35   4642.35   38.76   45.12   33.98    0.39\n",
            "  1     600        995.38   4026.25   37.36   51.11   29.44    0.37\n",
            "  2     800       1548.49   4689.26   56.25   60.79   52.35    0.56\n",
            "  3    1000       3601.85   5105.33   62.25   61.50   63.03    0.62\n",
            "  4    1200        620.06   4649.31   70.64   72.49   68.88    0.71\n",
            "  6    1400        522.40   4832.18   74.99   74.44   75.56    0.75\n",
            "  8    1600        993.30   5060.21   81.71   82.51   80.93    0.82\n",
            " 10    1800        940.81   4931.88   87.73   88.31   87.16    0.88\n",
            " 13    2000        711.27   4308.04   92.68   94.08   91.32    0.93\n",
            "\u001b[38;5;2m✔ Saved pipeline to output directory\u001b[0m\n",
            "model-last\n"
          ]
        }
      ]
    },
    {
      "cell_type": "code",
      "source": [
        "trained_ner = load(\"model-best\")"
      ],
      "metadata": {
        "id": "av7-BYprYca4"
      },
      "execution_count": null,
      "outputs": []
    },
    {
      "cell_type": "code",
      "source": [
        "document_to_label = \"\"\"Number of times it snowed in Bakersfield California and then what is the rate of employment given salary less than 10000?\"\"\"\n",
        "labeled_document = nlp(document_to_label)"
      ],
      "metadata": {
        "id": "b5d3adswK4nf"
      },
      "execution_count": null,
      "outputs": []
    },
    {
      "cell_type": "code",
      "source": [
        "colors = {\n",
        "    \"LABOR\": generate_random_color(),\n",
        "    \"MENTAL AND PHYSICAL HEALTH\": generate_random_color(),\n",
        "    \"CLIMATE\": generate_random_color(),\n",
        "    \"DEMOGRAPHIC\": generate_random_color(),\n",
        "    \"INDUSTRY\": generate_random_color(),\n",
        "    \"EDUCATION\": generate_random_color(),\n",
        "    \"SCHOOL DISTRICT\": generate_random_color(),\n",
        "    \"WEATHER\": generate_random_color(),\n",
        "\n",
        "}\n",
        "options = {\"colors\": colors}\n",
        "displacy.render(labeled_document, style=\"ent\", options=options, jupyter=True)"
      ],
      "metadata": {
        "colab": {
          "base_uri": "https://localhost:8080/",
          "height": 52
        },
        "id": "jOmOP7CyKENx",
        "outputId": "2dd09f08-9bf4-4550-fb14-2c1f776e8f40"
      },
      "execution_count": null,
      "outputs": [
        {
          "output_type": "display_data",
          "data": {
            "text/plain": [
              "<IPython.core.display.HTML object>"
            ],
            "text/html": [
              "<span class=\"tex2jax_ignore\"><div class=\"entities\" style=\"line-height: 2.5; direction: ltr\">Number of times it snowed in \n",
              "<mark class=\"entity\" style=\"background: #feca74; padding: 0.45em 0.6em; margin: 0 0.25em; line-height: 1; border-radius: 0.35em;\">\n",
              "    Bakersfield California\n",
              "    <span style=\"font-size: 0.8em; font-weight: bold; line-height: 1; border-radius: 0.35em; vertical-align: middle; margin-left: 0.5rem\">GPE</span>\n",
              "</mark>\n",
              " and then what is the rate of \n",
              "<mark class=\"entity\" style=\"background: #89ded2; padding: 0.45em 0.6em; margin: 0 0.25em; line-height: 1; border-radius: 0.35em;\">\n",
              "    employment\n",
              "    <span style=\"font-size: 0.8em; font-weight: bold; line-height: 1; border-radius: 0.35em; vertical-align: middle; margin-left: 0.5rem\">LABOR</span>\n",
              "</mark>\n",
              " given \n",
              "<mark class=\"entity\" style=\"background: #89ded2; padding: 0.45em 0.6em; margin: 0 0.25em; line-height: 1; border-radius: 0.35em;\">\n",
              "    salary\n",
              "    <span style=\"font-size: 0.8em; font-weight: bold; line-height: 1; border-radius: 0.35em; vertical-align: middle; margin-left: 0.5rem\">LABOR</span>\n",
              "</mark>\n",
              " less than 10000?</div></span>"
            ]
          },
          "metadata": {}
        }
      ]
    }
  ]
}