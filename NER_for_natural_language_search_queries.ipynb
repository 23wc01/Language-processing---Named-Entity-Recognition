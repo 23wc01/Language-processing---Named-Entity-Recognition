{
  "nbformat": 4,
  "nbformat_minor": 0,
  "metadata": {
    "colab": {
      "provenance": []
    },
    "kernelspec": {
      "name": "python3",
      "display_name": "Python 3"
    },
    "language_info": {
      "name": "python"
    }
  },
  "cells": [
    {
      "cell_type": "markdown",
      "source": [
        "#**Sources**\n",
        "\n",
        "* [metapub](https://pypi.org/project/metapub/)\n",
        "* [NCI thesaurus](https://ncit.nci.nih.gov/ncitbrowser/pages/home.jsf?version=24.06d)\n",
        "\n",
        "* https://github.com/NCIEVS/evsrestapi-client-SDK/tree/master/python-examples\n",
        "* https://medium.com/nirman-tech-blog/locationtagger-a-python-package-to-extract-locations-from-text-or-web-page-dbb05f1648d3\n",
        "\n",
        "* [dateparser](https://dateparser.readthedocs.io/en/latest/)\n"
      ],
      "metadata": {
        "id": "NIZP-MBeb_y0"
      }
    },
    {
      "cell_type": "markdown",
      "source": [
        "# **Installs & Imports**"
      ],
      "metadata": {
        "id": "01TwmqQQcDG0"
      }
    },
    {
      "cell_type": "code",
      "source": [
        "!pip install metapub -q"
      ],
      "metadata": {
        "id": "YGkwHStu5NH-"
      },
      "execution_count": null,
      "outputs": []
    },
    {
      "cell_type": "code",
      "source": [
        "!pip install medspacy -q"
      ],
      "metadata": {
        "id": "6URwkwiRv5D4"
      },
      "execution_count": null,
      "outputs": []
    },
    {
      "cell_type": "code",
      "source": [
        "!pip install spacy==3.7.5 -q\n",
        "!pip install scispacy -q\n",
        "!pip install https://s3-us-west-2.amazonaws.com/ai2-s2-scispacy/releases/v0.5.1/en_ner_bc5cdr_md-0.5.1.tar.gz -q"
      ],
      "metadata": {
        "id": "dLpm-66cBdcn"
      },
      "execution_count": null,
      "outputs": []
    },
    {
      "cell_type": "code",
      "source": [
        "!pip install nltk -q\n",
        "!python -m spacy download en_core_web_sm -q\n",
        "!pip install locationtagger -q"
      ],
      "metadata": {
        "id": "flCdSAMq2red"
      },
      "execution_count": null,
      "outputs": []
    },
    {
      "cell_type": "code",
      "source": [
        "!pip install dateparser -q"
      ],
      "metadata": {
        "id": "QWGEfB2LJCIM"
      },
      "execution_count": null,
      "outputs": []
    },
    {
      "cell_type": "code",
      "execution_count": null,
      "metadata": {
        "id": "H1nox0agb-kv"
      },
      "outputs": [],
      "source": [
        "import pandas"
      ]
    },
    {
      "cell_type": "code",
      "source": [
        "from metapub import PubMedFetcher"
      ],
      "metadata": {
        "id": "DnZPdtaz6VKF"
      },
      "execution_count": null,
      "outputs": []
    },
    {
      "cell_type": "code",
      "source": [
        "import scispacy\n",
        "import spacy\n",
        "from spacy import displacy"
      ],
      "metadata": {
        "id": "hZGfPTv4M0m8"
      },
      "execution_count": null,
      "outputs": []
    },
    {
      "cell_type": "code",
      "source": [
        "import nltk\n",
        "nltk.download('punkt')\n",
        "nltk.download('averaged_perceptron_tagger')\n",
        "nltk.download(\"maxent_ne_chunker\")\n",
        "nltk.download('words')\n",
        "import locationtagger"
      ],
      "metadata": {
        "colab": {
          "base_uri": "https://localhost:8080/"
        },
        "id": "gtoyNjyP00pq",
        "outputId": "010d98a7-f86e-4980-9a14-502772ca7f41"
      },
      "execution_count": null,
      "outputs": [
        {
          "output_type": "stream",
          "name": "stderr",
          "text": [
            "[nltk_data] Downloading package punkt to /root/nltk_data...\n",
            "[nltk_data]   Unzipping tokenizers/punkt.zip.\n",
            "[nltk_data] Downloading package averaged_perceptron_tagger to\n",
            "[nltk_data]     /root/nltk_data...\n",
            "[nltk_data]   Unzipping taggers/averaged_perceptron_tagger.zip.\n",
            "[nltk_data] Downloading package maxent_ne_chunker to\n",
            "[nltk_data]     /root/nltk_data...\n",
            "[nltk_data]   Unzipping chunkers/maxent_ne_chunker.zip.\n",
            "[nltk_data] Downloading package words to /root/nltk_data...\n",
            "[nltk_data]   Unzipping corpora/words.zip.\n"
          ]
        }
      ]
    },
    {
      "cell_type": "code",
      "source": [
        "import re"
      ],
      "metadata": {
        "id": "SLklFlwnwxGr"
      },
      "execution_count": null,
      "outputs": []
    },
    {
      "cell_type": "code",
      "source": [
        "from dateparser.search import search_dates\n",
        "from dateparser import DateDataParser"
      ],
      "metadata": {
        "id": "r3NWnzpaJFiT"
      },
      "execution_count": null,
      "outputs": []
    },
    {
      "cell_type": "markdown",
      "source": [
        "# **Data preparation**"
      ],
      "metadata": {
        "id": "dcok1lincGLh"
      }
    },
    {
      "cell_type": "markdown",
      "source": [
        "## GeoARK attributes dataframes"
      ],
      "metadata": {
        "id": "Cr7VfZ_R5mT7"
      }
    },
    {
      "cell_type": "code",
      "source": [
        "file_path = \"/content/drive/MyDrive/Su2024/GeoARK/geoark_attributes_06-2023.xlsx\"\n",
        "all_attributes_dataframe = pandas.read_excel(file_path)"
      ],
      "metadata": {
        "id": "WY7vDM8VcLps"
      },
      "execution_count": null,
      "outputs": []
    },
    {
      "cell_type": "code",
      "source": [
        "ISO_Code_dataframe = pandas.read_csv(\"/content/drive/MyDrive/Su2024/GeoARK/ISO_Code.csv\", encoding='latin-1')"
      ],
      "metadata": {
        "id": "ZGaLRrkBeClz"
      },
      "execution_count": null,
      "outputs": []
    },
    {
      "cell_type": "code",
      "source": [
        "ISO_Code_dataframe.keys()"
      ],
      "metadata": {
        "colab": {
          "base_uri": "https://localhost:8080/"
        },
        "id": "pHIQNkvdjs32",
        "outputId": "c398ff3a-82ac-4e04-d60b-2f4f32b0e8c2"
      },
      "execution_count": null,
      "outputs": [
        {
          "output_type": "execute_result",
          "data": {
            "text/plain": [
              "Index(['Name', 'Code', 'Definition'], dtype='object')"
            ]
          },
          "metadata": {},
          "execution_count": 72
        }
      ]
    },
    {
      "cell_type": "code",
      "source": [
        "def write_ISO_category_names(ISO_dataframe: pandas.DataFrame, all_attributes_dataframe: pandas.DataFrame):\n",
        "  for rowNum, row in all_attributes_dataframe.iterrows():\n",
        "    iso_code = row[\"iso_key\"]\n",
        "    if not pandas.isna(iso_code):\n",
        "      iso_category_name = ISO_dataframe.loc[ISO_dataframe['Code'] == iso_code, \"Name\"]\n",
        "      if iso_category_name.empty:\n",
        "        print(f\"No matching ISO category found for code: {iso_code} in row {row}\")\n",
        "      else:\n",
        "        all_attributes_dataframe[\"iso_key_add\"][rowNum] = iso_category_name.iloc[0]\n",
        "  return all_attributes_dataframe"
      ],
      "metadata": {
        "id": "cgRWhkzJiAkb"
      },
      "execution_count": null,
      "outputs": []
    },
    {
      "cell_type": "code",
      "source": [
        "def write_to_seperate_csvs(dataframe: pandas.DataFrame):\n",
        "  dataset_ids = dataframe['dataset_id'].unique()\n",
        "  all_datasets = {}\n",
        "  for dataset_id in dataset_ids:\n",
        "    dataset = all_attributes_dataframe.loc[all_attributes_dataframe['dataset_id'] == dataset_id]\n",
        "    file_path = f\"/content/drive/MyDrive/Su2024/GeoARK/{dataset_id}.xlsx\"\"\"\n",
        "    dataset.to_csv(file_path, encoding=\"utf-8\")\n",
        "    all_datasets[dataset_id] = dataset\n",
        "  return all_datasets"
      ],
      "metadata": {
        "id": "ucvpYqVkcyMH"
      },
      "execution_count": null,
      "outputs": []
    },
    {
      "cell_type": "code",
      "source": [
        "all_attributes_dataframe = write_ISO_category_names(ISO_Code_dataframe, all_attributes_dataframe)"
      ],
      "metadata": {
        "id": "9dV3Qy8RgrIF"
      },
      "execution_count": null,
      "outputs": []
    },
    {
      "cell_type": "code",
      "source": [
        "all_attributes_dataframe.to_csv(file_path, encoding=\"utf-8\")"
      ],
      "metadata": {
        "id": "qp3YybtUyv0u"
      },
      "execution_count": null,
      "outputs": []
    },
    {
      "cell_type": "code",
      "source": [
        "def ISO_category_only_dataframe(ISO_category_name: str, all_attributes_dataframe: pandas.DataFrame):\n",
        "  return all_attributes_dataframe.loc[all_attributes_dataframe['iso_key_add'] == ISO_category_name]"
      ],
      "metadata": {
        "id": "0LdqLI3cyBCO"
      },
      "execution_count": null,
      "outputs": []
    },
    {
      "cell_type": "code",
      "source": [
        "all_datasets = write_to_seperate_csvs(all_attributes_dataframe)"
      ],
      "metadata": {
        "id": "n523gNUng-bE"
      },
      "execution_count": null,
      "outputs": []
    },
    {
      "cell_type": "code",
      "source": [
        "health_attributes_dataframe = ISO_category_only_dataframe(\"health\", all_attributes_dataframe)"
      ],
      "metadata": {
        "id": "XD1r9PpWx_h5"
      },
      "execution_count": null,
      "outputs": []
    },
    {
      "cell_type": "code",
      "source": [
        "health_attributes_dataframe.to_csv(\"/content/drive/MyDrive/Su2024/GeoARK/health_attributes.csv\", encoding=\"utf-8\")"
      ],
      "metadata": {
        "id": "igmZWHiI0R-m"
      },
      "execution_count": null,
      "outputs": []
    },
    {
      "cell_type": "code",
      "source": [
        "print(all_attributes_dataframe.keys())"
      ],
      "metadata": {
        "colab": {
          "base_uri": "https://localhost:8080/"
        },
        "id": "-3121NTqcsBc",
        "outputId": "e389c273-b3aa-44e1-80ae-5e225ef01fb0"
      },
      "execution_count": null,
      "outputs": [
        {
          "output_type": "stream",
          "name": "stdout",
          "text": [
            "Index(['dataset_id', 'attr_label', 'attr_orig', 'attr_desc', 'attr_id',\n",
            "       'start_date', 'end_date', 'attr_dtype', 'iso_key', 'iso_key_add',\n",
            "       'scale', 'positional_accuracy', 'spatial_rep', 'datum',\n",
            "       'coordinate_system', 'entity_type', 'tags', 'originator_id'],\n",
            "      dtype='object')\n"
          ]
        }
      ]
    },
    {
      "cell_type": "code",
      "source": [
        "all_datasets.keys()"
      ],
      "metadata": {
        "colab": {
          "base_uri": "https://localhost:8080/"
        },
        "id": "Jv5o4PTQho1c",
        "outputId": "e5b4bb3b-855b-458e-8957-64f2be3ca6b3"
      },
      "execution_count": null,
      "outputs": [
        {
          "output_type": "execute_result",
          "data": {
            "text/plain": [
              "dict_keys(['6fbbd315_01_01', 'a781336d_01_01', 'a781336d_02_01', 'a781336d_03_01', 'ddbfd2c3_01_01', '04d18a18_01_01', '04d18a18_02_01', '04d18a18_03_01', '04d18a18_04_01', '04d18a18_05_01', 'ddbfd2c3_02_01', '04d18a18_06_01', '04d18a18_07_01', '04d18a18_08_01', 'd8409bee_01_01', '04d18a18_09_01', '1cf20ca7_01_01', '2023_Q1_HIFLD_DataCatalog'])"
            ]
          },
          "metadata": {},
          "execution_count": 49
        }
      ]
    },
    {
      "cell_type": "code",
      "source": [
        "# Hand-classified & renamed the dataset .xlsx files\n",
        "xlsx_files = ['6fbbd315_01_01 (hospital beds).xlsx',\n",
        " 'a781336d_01_01 (supermarket proximity).xlsx',\n",
        " 'a781336d_02_01 (food accessability).xlsx',\n",
        " 'a781336d_03_01 (demographics, age, employment, nationality, ethnicity).xlsx',\n",
        " 'ddbfd2c3_01_01.xlsx',\n",
        " '04d18a18_01_01 (employment).xlsx',\n",
        " '04d18a18_02_01 (veterans).xlsx',\n",
        " '04d18a18_03_01 (health coverage).xlsx',\n",
        " '04d18a18_04_01 (housing).xlsx',\n",
        " '04d18a18_05_01 (race, sex, age).xlsx',\n",
        " 'ddbfd2c3_02_01 (smoking).xlsx',\n",
        " '04d18a18_06_01 (transportation).xlsx',\n",
        " '04d18a18_07_01 (low income).xlsx',\n",
        " '04d18a18_08_01 (population demographics).xlsx',\n",
        " 'd8409bee_01_01 (Mizzou degrees).xlsx',\n",
        " '04d18a18_09_01 (household types).xlsx',\n",
        " '1cf20ca7_01_01 (EJ data).xlsx']"
      ],
      "metadata": {
        "id": "qoa05TsVtOpI"
      },
      "execution_count": null,
      "outputs": []
    },
    {
      "cell_type": "code",
      "source": [
        "all_datasets = write_ISO_category_names(all_datasets, ISO_Code_dataframe)"
      ],
      "metadata": {
        "id": "9zAEH4gOlWKV"
      },
      "execution_count": null,
      "outputs": []
    },
    {
      "cell_type": "markdown",
      "source": [
        "## Pubmed dataframes"
      ],
      "metadata": {
        "id": "ZUECZS6P52ro"
      }
    },
    {
      "cell_type": "code",
      "source": [
        "def create_pubmed_dataframe(query: str, articles_count: int, columns_names=[\"pmid\", \"title\", \"abstract\", \"year\", \"citation\", \"link\"]) -> pandas.DataFrame:\n",
        "  pubmed_dataframe = pandas.DataFrame(columns=columns_names)\n",
        "  fetcher = PubMedFetcher()\n",
        "\n",
        "  pubmed_dataframe[\"pmid\"] = fetcher.pmids_for_query(query, articles_count)\n",
        "\n",
        "  articles = [fetcher.article_by_pmid(pmid) for pmid in pubmed_dataframe[\"pmid\"]]\n",
        "\n",
        "  pubmed_dataframe[\"title\"] = [article.title for article in articles]\n",
        "  pubmed_dataframe[\"abstract\"] = [article.abstract for article in articles]\n",
        "  pubmed_dataframe[\"year\"] = [article.year for article in articles]\n",
        "  pubmed_dataframe[\"citation\"] = [article.citation for article in articles]\n",
        "\n",
        "  return pubmed_dataframe"
      ],
      "metadata": {
        "id": "NELwbIVZFTtf"
      },
      "execution_count": null,
      "outputs": []
    },
    {
      "cell_type": "code",
      "source": [
        "def delete_empty_abstract_rows(pubmed_dataframe: pandas.DataFrame):\n",
        "  empty_abstract_rows = pubmed_dataframe.loc[pubmed_dataframe[\"abstract\"].isna()].index\n",
        "  pubmed_dataframe = pubmed_dataframe.drop(empty_abstract_rows)\n",
        "  return pubmed_dataframe"
      ],
      "metadata": {
        "id": "ZLB7YMNaGlAb"
      },
      "execution_count": null,
      "outputs": []
    },
    {
      "cell_type": "code",
      "source": [
        "pubmed_dataframe = create_pubmed_dataframe(\"cancer\", 10)\n",
        "pubmed_dataframe = delete_empty_abstract_rows(pubmed_dataframe)\n",
        "pubmed_dataframe.to_csv(\"/content/drive/MyDrive/Su2024/GeoARK/pubmed_cancer.csv\", encoding=\"utf-8\")"
      ],
      "metadata": {
        "id": "hQ-SwKRR_VH9"
      },
      "execution_count": null,
      "outputs": []
    },
    {
      "cell_type": "code",
      "source": [
        "pubmed_dataframe = pandas.read_csv(\"/content/drive/MyDrive/Su2024/GeoARK/pubmed_cancer.csv\", encoding=\"utf-8\")"
      ],
      "metadata": {
        "id": "3Ux-1MzHErf5"
      },
      "execution_count": null,
      "outputs": []
    },
    {
      "cell_type": "code",
      "source": [
        "pubmed_dataframe.head()"
      ],
      "metadata": {
        "colab": {
          "base_uri": "https://localhost:8080/",
          "height": 206
        },
        "id": "TA27c-EPFEMm",
        "outputId": "ff45a5dc-708d-4175-b688-76770b89be8f"
      },
      "execution_count": null,
      "outputs": [
        {
          "output_type": "execute_result",
          "data": {
            "text/plain": [
              "   Unnamed: 0.1  Unnamed: 0      pmid  \\\n",
              "0             1           1  39141399   \n",
              "1             2           2  39141388   \n",
              "2             4           4  39141363   \n",
              "3             6           6  39141355   \n",
              "4             7           7  39141353   \n",
              "\n",
              "                                               title  \\\n",
              "0  Minimal Access vs Conventional Nipple-Sparing ...   \n",
              "1  Long-Term Survival in Patients With Advanced M...   \n",
              "2  Exploring the Germline Genetics of In Situ and...   \n",
              "3  Pressure-enhanced sensing of tissue oxygenatio...   \n",
              "4  Circadian period is compensated for repressor ...   \n",
              "\n",
              "                                            abstract  year  \\\n",
              "0  IMPORTANCE: While nipple-sparing mastectomy (N...  2024   \n",
              "1  IMPORTANCE: Long-term survival data from clini...  2024   \n",
              "2  IMPORTANCE: It is unknown whether germline gen...  2024   \n",
              "3  Fluorescence guidance is routinely used in sur...  2024   \n",
              "4  Most mammalian cells have molecular circadian ...  2024   \n",
              "\n",
              "                                            citation  link  \n",
              "0  Kim JH, et al. Minimal Access vs Conventional ...   NaN  \n",
              "1  van Not OJ, et al. Long-Term Survival in Patie...   NaN  \n",
              "2  Ingold N, et al. Exploring the Germline Geneti...   NaN  \n",
              "3  Petusseau AF, et al. Pressure-enhanced sensing...   NaN  \n",
              "4  Gabriel CH, et al. Circadian period is compens...   NaN  "
            ],
            "text/html": [
              "\n",
              "  <div id=\"df-dd78be92-4ca1-4dd4-9fd8-cdb9e809d33e\" class=\"colab-df-container\">\n",
              "    <div>\n",
              "<style scoped>\n",
              "    .dataframe tbody tr th:only-of-type {\n",
              "        vertical-align: middle;\n",
              "    }\n",
              "\n",
              "    .dataframe tbody tr th {\n",
              "        vertical-align: top;\n",
              "    }\n",
              "\n",
              "    .dataframe thead th {\n",
              "        text-align: right;\n",
              "    }\n",
              "</style>\n",
              "<table border=\"1\" class=\"dataframe\">\n",
              "  <thead>\n",
              "    <tr style=\"text-align: right;\">\n",
              "      <th></th>\n",
              "      <th>Unnamed: 0.1</th>\n",
              "      <th>Unnamed: 0</th>\n",
              "      <th>pmid</th>\n",
              "      <th>title</th>\n",
              "      <th>abstract</th>\n",
              "      <th>year</th>\n",
              "      <th>citation</th>\n",
              "      <th>link</th>\n",
              "    </tr>\n",
              "  </thead>\n",
              "  <tbody>\n",
              "    <tr>\n",
              "      <th>0</th>\n",
              "      <td>1</td>\n",
              "      <td>1</td>\n",
              "      <td>39141399</td>\n",
              "      <td>Minimal Access vs Conventional Nipple-Sparing ...</td>\n",
              "      <td>IMPORTANCE: While nipple-sparing mastectomy (N...</td>\n",
              "      <td>2024</td>\n",
              "      <td>Kim JH, et al. Minimal Access vs Conventional ...</td>\n",
              "      <td>NaN</td>\n",
              "    </tr>\n",
              "    <tr>\n",
              "      <th>1</th>\n",
              "      <td>2</td>\n",
              "      <td>2</td>\n",
              "      <td>39141388</td>\n",
              "      <td>Long-Term Survival in Patients With Advanced M...</td>\n",
              "      <td>IMPORTANCE: Long-term survival data from clini...</td>\n",
              "      <td>2024</td>\n",
              "      <td>van Not OJ, et al. Long-Term Survival in Patie...</td>\n",
              "      <td>NaN</td>\n",
              "    </tr>\n",
              "    <tr>\n",
              "      <th>2</th>\n",
              "      <td>4</td>\n",
              "      <td>4</td>\n",
              "      <td>39141363</td>\n",
              "      <td>Exploring the Germline Genetics of In Situ and...</td>\n",
              "      <td>IMPORTANCE: It is unknown whether germline gen...</td>\n",
              "      <td>2024</td>\n",
              "      <td>Ingold N, et al. Exploring the Germline Geneti...</td>\n",
              "      <td>NaN</td>\n",
              "    </tr>\n",
              "    <tr>\n",
              "      <th>3</th>\n",
              "      <td>6</td>\n",
              "      <td>6</td>\n",
              "      <td>39141355</td>\n",
              "      <td>Pressure-enhanced sensing of tissue oxygenatio...</td>\n",
              "      <td>Fluorescence guidance is routinely used in sur...</td>\n",
              "      <td>2024</td>\n",
              "      <td>Petusseau AF, et al. Pressure-enhanced sensing...</td>\n",
              "      <td>NaN</td>\n",
              "    </tr>\n",
              "    <tr>\n",
              "      <th>4</th>\n",
              "      <td>7</td>\n",
              "      <td>7</td>\n",
              "      <td>39141353</td>\n",
              "      <td>Circadian period is compensated for repressor ...</td>\n",
              "      <td>Most mammalian cells have molecular circadian ...</td>\n",
              "      <td>2024</td>\n",
              "      <td>Gabriel CH, et al. Circadian period is compens...</td>\n",
              "      <td>NaN</td>\n",
              "    </tr>\n",
              "  </tbody>\n",
              "</table>\n",
              "</div>\n",
              "    <div class=\"colab-df-buttons\">\n",
              "\n",
              "  <div class=\"colab-df-container\">\n",
              "    <button class=\"colab-df-convert\" onclick=\"convertToInteractive('df-dd78be92-4ca1-4dd4-9fd8-cdb9e809d33e')\"\n",
              "            title=\"Convert this dataframe to an interactive table.\"\n",
              "            style=\"display:none;\">\n",
              "\n",
              "  <svg xmlns=\"http://www.w3.org/2000/svg\" height=\"24px\" viewBox=\"0 -960 960 960\">\n",
              "    <path d=\"M120-120v-720h720v720H120Zm60-500h600v-160H180v160Zm220 220h160v-160H400v160Zm0 220h160v-160H400v160ZM180-400h160v-160H180v160Zm440 0h160v-160H620v160ZM180-180h160v-160H180v160Zm440 0h160v-160H620v160Z\"/>\n",
              "  </svg>\n",
              "    </button>\n",
              "\n",
              "  <style>\n",
              "    .colab-df-container {\n",
              "      display:flex;\n",
              "      gap: 12px;\n",
              "    }\n",
              "\n",
              "    .colab-df-convert {\n",
              "      background-color: #E8F0FE;\n",
              "      border: none;\n",
              "      border-radius: 50%;\n",
              "      cursor: pointer;\n",
              "      display: none;\n",
              "      fill: #1967D2;\n",
              "      height: 32px;\n",
              "      padding: 0 0 0 0;\n",
              "      width: 32px;\n",
              "    }\n",
              "\n",
              "    .colab-df-convert:hover {\n",
              "      background-color: #E2EBFA;\n",
              "      box-shadow: 0px 1px 2px rgba(60, 64, 67, 0.3), 0px 1px 3px 1px rgba(60, 64, 67, 0.15);\n",
              "      fill: #174EA6;\n",
              "    }\n",
              "\n",
              "    .colab-df-buttons div {\n",
              "      margin-bottom: 4px;\n",
              "    }\n",
              "\n",
              "    [theme=dark] .colab-df-convert {\n",
              "      background-color: #3B4455;\n",
              "      fill: #D2E3FC;\n",
              "    }\n",
              "\n",
              "    [theme=dark] .colab-df-convert:hover {\n",
              "      background-color: #434B5C;\n",
              "      box-shadow: 0px 1px 3px 1px rgba(0, 0, 0, 0.15);\n",
              "      filter: drop-shadow(0px 1px 2px rgba(0, 0, 0, 0.3));\n",
              "      fill: #FFFFFF;\n",
              "    }\n",
              "  </style>\n",
              "\n",
              "    <script>\n",
              "      const buttonEl =\n",
              "        document.querySelector('#df-dd78be92-4ca1-4dd4-9fd8-cdb9e809d33e button.colab-df-convert');\n",
              "      buttonEl.style.display =\n",
              "        google.colab.kernel.accessAllowed ? 'block' : 'none';\n",
              "\n",
              "      async function convertToInteractive(key) {\n",
              "        const element = document.querySelector('#df-dd78be92-4ca1-4dd4-9fd8-cdb9e809d33e');\n",
              "        const dataTable =\n",
              "          await google.colab.kernel.invokeFunction('convertToInteractive',\n",
              "                                                    [key], {});\n",
              "        if (!dataTable) return;\n",
              "\n",
              "        const docLinkHtml = 'Like what you see? Visit the ' +\n",
              "          '<a target=\"_blank\" href=https://colab.research.google.com/notebooks/data_table.ipynb>data table notebook</a>'\n",
              "          + ' to learn more about interactive tables.';\n",
              "        element.innerHTML = '';\n",
              "        dataTable['output_type'] = 'display_data';\n",
              "        await google.colab.output.renderOutput(dataTable, element);\n",
              "        const docLink = document.createElement('div');\n",
              "        docLink.innerHTML = docLinkHtml;\n",
              "        element.appendChild(docLink);\n",
              "      }\n",
              "    </script>\n",
              "  </div>\n",
              "\n",
              "\n",
              "<div id=\"df-84110d80-d0ee-4c36-a055-cfd8dc7bb341\">\n",
              "  <button class=\"colab-df-quickchart\" onclick=\"quickchart('df-84110d80-d0ee-4c36-a055-cfd8dc7bb341')\"\n",
              "            title=\"Suggest charts\"\n",
              "            style=\"display:none;\">\n",
              "\n",
              "<svg xmlns=\"http://www.w3.org/2000/svg\" height=\"24px\"viewBox=\"0 0 24 24\"\n",
              "     width=\"24px\">\n",
              "    <g>\n",
              "        <path d=\"M19 3H5c-1.1 0-2 .9-2 2v14c0 1.1.9 2 2 2h14c1.1 0 2-.9 2-2V5c0-1.1-.9-2-2-2zM9 17H7v-7h2v7zm4 0h-2V7h2v10zm4 0h-2v-4h2v4z\"/>\n",
              "    </g>\n",
              "</svg>\n",
              "  </button>\n",
              "\n",
              "<style>\n",
              "  .colab-df-quickchart {\n",
              "      --bg-color: #E8F0FE;\n",
              "      --fill-color: #1967D2;\n",
              "      --hover-bg-color: #E2EBFA;\n",
              "      --hover-fill-color: #174EA6;\n",
              "      --disabled-fill-color: #AAA;\n",
              "      --disabled-bg-color: #DDD;\n",
              "  }\n",
              "\n",
              "  [theme=dark] .colab-df-quickchart {\n",
              "      --bg-color: #3B4455;\n",
              "      --fill-color: #D2E3FC;\n",
              "      --hover-bg-color: #434B5C;\n",
              "      --hover-fill-color: #FFFFFF;\n",
              "      --disabled-bg-color: #3B4455;\n",
              "      --disabled-fill-color: #666;\n",
              "  }\n",
              "\n",
              "  .colab-df-quickchart {\n",
              "    background-color: var(--bg-color);\n",
              "    border: none;\n",
              "    border-radius: 50%;\n",
              "    cursor: pointer;\n",
              "    display: none;\n",
              "    fill: var(--fill-color);\n",
              "    height: 32px;\n",
              "    padding: 0;\n",
              "    width: 32px;\n",
              "  }\n",
              "\n",
              "  .colab-df-quickchart:hover {\n",
              "    background-color: var(--hover-bg-color);\n",
              "    box-shadow: 0 1px 2px rgba(60, 64, 67, 0.3), 0 1px 3px 1px rgba(60, 64, 67, 0.15);\n",
              "    fill: var(--button-hover-fill-color);\n",
              "  }\n",
              "\n",
              "  .colab-df-quickchart-complete:disabled,\n",
              "  .colab-df-quickchart-complete:disabled:hover {\n",
              "    background-color: var(--disabled-bg-color);\n",
              "    fill: var(--disabled-fill-color);\n",
              "    box-shadow: none;\n",
              "  }\n",
              "\n",
              "  .colab-df-spinner {\n",
              "    border: 2px solid var(--fill-color);\n",
              "    border-color: transparent;\n",
              "    border-bottom-color: var(--fill-color);\n",
              "    animation:\n",
              "      spin 1s steps(1) infinite;\n",
              "  }\n",
              "\n",
              "  @keyframes spin {\n",
              "    0% {\n",
              "      border-color: transparent;\n",
              "      border-bottom-color: var(--fill-color);\n",
              "      border-left-color: var(--fill-color);\n",
              "    }\n",
              "    20% {\n",
              "      border-color: transparent;\n",
              "      border-left-color: var(--fill-color);\n",
              "      border-top-color: var(--fill-color);\n",
              "    }\n",
              "    30% {\n",
              "      border-color: transparent;\n",
              "      border-left-color: var(--fill-color);\n",
              "      border-top-color: var(--fill-color);\n",
              "      border-right-color: var(--fill-color);\n",
              "    }\n",
              "    40% {\n",
              "      border-color: transparent;\n",
              "      border-right-color: var(--fill-color);\n",
              "      border-top-color: var(--fill-color);\n",
              "    }\n",
              "    60% {\n",
              "      border-color: transparent;\n",
              "      border-right-color: var(--fill-color);\n",
              "    }\n",
              "    80% {\n",
              "      border-color: transparent;\n",
              "      border-right-color: var(--fill-color);\n",
              "      border-bottom-color: var(--fill-color);\n",
              "    }\n",
              "    90% {\n",
              "      border-color: transparent;\n",
              "      border-bottom-color: var(--fill-color);\n",
              "    }\n",
              "  }\n",
              "</style>\n",
              "\n",
              "  <script>\n",
              "    async function quickchart(key) {\n",
              "      const quickchartButtonEl =\n",
              "        document.querySelector('#' + key + ' button');\n",
              "      quickchartButtonEl.disabled = true;  // To prevent multiple clicks.\n",
              "      quickchartButtonEl.classList.add('colab-df-spinner');\n",
              "      try {\n",
              "        const charts = await google.colab.kernel.invokeFunction(\n",
              "            'suggestCharts', [key], {});\n",
              "      } catch (error) {\n",
              "        console.error('Error during call to suggestCharts:', error);\n",
              "      }\n",
              "      quickchartButtonEl.classList.remove('colab-df-spinner');\n",
              "      quickchartButtonEl.classList.add('colab-df-quickchart-complete');\n",
              "    }\n",
              "    (() => {\n",
              "      let quickchartButtonEl =\n",
              "        document.querySelector('#df-84110d80-d0ee-4c36-a055-cfd8dc7bb341 button');\n",
              "      quickchartButtonEl.style.display =\n",
              "        google.colab.kernel.accessAllowed ? 'block' : 'none';\n",
              "    })();\n",
              "  </script>\n",
              "</div>\n",
              "\n",
              "    </div>\n",
              "  </div>\n"
            ],
            "application/vnd.google.colaboratory.intrinsic+json": {
              "type": "dataframe",
              "variable_name": "pubmed_dataframe",
              "summary": "{\n  \"name\": \"pubmed_dataframe\",\n  \"rows\": 224,\n  \"fields\": [\n    {\n      \"column\": \"Unnamed: 0.1\",\n      \"properties\": {\n        \"dtype\": \"number\",\n        \"std\": 72,\n        \"min\": 1,\n        \"max\": 249,\n        \"num_unique_values\": 224,\n        \"samples\": [\n          12,\n          98,\n          135\n        ],\n        \"semantic_type\": \"\",\n        \"description\": \"\"\n      }\n    },\n    {\n      \"column\": \"Unnamed: 0\",\n      \"properties\": {\n        \"dtype\": \"number\",\n        \"std\": 72,\n        \"min\": 1,\n        \"max\": 249,\n        \"num_unique_values\": 224,\n        \"samples\": [\n          12,\n          98,\n          135\n        ],\n        \"semantic_type\": \"\",\n        \"description\": \"\"\n      }\n    },\n    {\n      \"column\": \"pmid\",\n      \"properties\": {\n        \"dtype\": \"number\",\n        \"std\": 646,\n        \"min\": 39139285,\n        \"max\": 39141399,\n        \"num_unique_values\": 224,\n        \"samples\": [\n          39141316,\n          39140599,\n          39140247\n        ],\n        \"semantic_type\": \"\",\n        \"description\": \"\"\n      }\n    },\n    {\n      \"column\": \"title\",\n      \"properties\": {\n        \"dtype\": \"string\",\n        \"num_unique_values\": 224,\n        \"samples\": [\n          \"Loss of histone deubiquitinase Bap1 triggers anti-tumor immunity.\",\n          \"Evidence for the Positive Impact of Centralization in Esophageal Cancer Surgery.\",\n          \"Compensation of gene dosage on the mammalian X.\"\n        ],\n        \"semantic_type\": \"\",\n        \"description\": \"\"\n      }\n    },\n    {\n      \"column\": \"abstract\",\n      \"properties\": {\n        \"dtype\": \"string\",\n        \"num_unique_values\": 224,\n        \"samples\": [\n          \"PURPOSE: Immunotherapy using PD-L1 blockade is effective in only a small group of cancer patients, and resistance is common. This emphasizes the importance of understanding the mechanisms of cancer immune evasion and resistance.\\nMETHODS: A genome-scale CRISPR-Cas9 screen identified Bap1 as a regulator of PD-L1 expression. To measure tumor size and survival, tumor cells were subcutaneously injected into both syngeneic WT mice and immunocompromised mice. The phenotypic and transcriptional characteristics of Bap1-deleted tumors were examined using flow cytometry, RNA-seq, and CUT&Tag-seq analysis.\\nRESULTS: We found that loss of histone deubiquitinase Bap1 in cancer cells activates a cDC1-CD8+ T cell-dependent anti-tumor immunity. The absence of Bap1 leads to an increase in genes associated with anti-tumor immune response and a decrease in genes related to immune evasion. As a result, the tumor microenvironment becomes inflamed, with more cDC1 cells and effector CD8+ T cells, but fewer neutrophils and regulatory T cells. We also found that the elimination of Bap1-deleted tumors depends on the tumor MHCI molecule and Fas-mediated CD8+ T cell cytotoxicity. Our analysis of TCGA data further supports these findings, showing a reverse correlation between BAP1 expression and mRNA signatures of activated DCs and T-cell cytotoxicity in various human cancers.\\nCONCLUSION: The histone deubiquitinase Bap1 could be used as a biomarker for tumor stratification and as a potential therapeutic target for cancer immunotherapies.\",\n          \"OBJECTIVE: In this study we analyzed the impact of centralization on key metrics, outcomes and patterns of care at the Irish National Center.\\nSUMMARY BACKGROUND DATA: Overall survival rates in esophageal cancer in the West have doubled in the last 25 years. An international trend towards centralization may be relevant, however this model remains controversial with Ireland, centralizing esophageal cancer surgery in 2011.\\nSTUDY DESIGN: All patients (n=1245) with adenocarcinoma of the esophagus or junction treated with curative intent involving surgery, including endoscopic surgery, were included (n= 461 from 2000-2011, and 784 from 2012-2022). All data entry was prospectively recorded. Overall survival was measured (i) for the entire cohort; (ii) patients with locally advanced disease (cT2-3N0-3); and (iii) patients undergoing neoadjuvant therapy. All complications were recorded as per Esophageal Complication Consensus Group (ECCG) definitions, and the Clavien Dindo (CD) severity classification.\\nSTATISTICAL ANALYSIS: Data were analyzed using GraphPad Prism (v.6.0) for Windows and SPSS (v.23.0) software (SPSS,Chicago,IL) RStudio (Rversion4.2.2). Survival times were calculated using log-rank test and a Cox-regression analysis, and Kaplan-Meier curves generated.\\nRESULTS: Endotherapy for cT1a/IMC adenocarcinoma increased from 40 (9% total) to 245 (31% total) procedures between the pre-centralization (pre-C) and post-centralization (post-C) periods. A significantly (P<0.001) higher proportion of patients with cT2-3N0-3 disease in the post-C period underwent neoadjuvant therapy (66% vs 53%). Operative mortality was lower (P=0.02) post-C, at 2% vs 4.5%, and>IIIa CD major complications decreased from 33% to 25% (P<0.01). Recurrence rates were lower post-C (38% vs 53%, P<0.01). Median overall survival was 73.83 versus 47.23 months in the 2012-22 and 2000-11 cohorts respectively (P<0.001). For those who received neoadjuvant therapy, the median survival was 28.5 months pre-C and 42.5 months post-C (P<0.001).\\nCONCLUSION: These data highlight improvements in both operative outcomes and survival from the time of centralization, and a major expansion of endoscopic surgery. Although not providing proof, the study suggests a positive impact of formal centralization with governance on key quality metrics, and an evolution in patterns of care.\",\n          \"Changes in gene dosage can have tremendous evolutionary potential (e.g. whole-genome duplications), but without compensatory mechanisms, they can also lead to gene dysregulation and pathologies. Sex chromosomes are a paradigmatic example of naturally occurring gene dosage differences and their compensation. In species with chromosome-based sex determination, individuals within the same population necessarily show 'natural' differences in gene dosage for the sex chromosomes. In this Review, we focus on the mammalian X chromosome and discuss recent new insights into the dosage-compensation mechanisms that evolved along with the emergence of sex chromosomes, namely X-inactivation and X-upregulation. We also discuss the evolution of the genetic loci and molecular players involved, as well as the regulatory diversity and potentially different requirements for dosage compensation across mammalian species.\"\n        ],\n        \"semantic_type\": \"\",\n        \"description\": \"\"\n      }\n    },\n    {\n      \"column\": \"year\",\n      \"properties\": {\n        \"dtype\": \"number\",\n        \"std\": 0,\n        \"min\": 2023,\n        \"max\": 2024,\n        \"num_unique_values\": 2,\n        \"samples\": [\n          2023,\n          2024\n        ],\n        \"semantic_type\": \"\",\n        \"description\": \"\"\n      }\n    },\n    {\n      \"column\": \"citation\",\n      \"properties\": {\n        \"dtype\": \"string\",\n        \"num_unique_values\": 224,\n        \"samples\": [\n          \"Chang H, et al. Loss of histone deubiquitinase Bap1 triggers anti-tumor immunity. Loss of histone deubiquitinase Bap1 triggers anti-tumor immunity. 2024; (unknown volume):(unknown pages). doi: 10.1007/s13402-024-00978-y\",\n          \"Donlon NE, et al. Evidence for the Positive Impact of Centralization in Esophageal Cancer Surgery. Evidence for the Positive Impact of Centralization in Esophageal Cancer Surgery. 2024; (unknown volume):(unknown pages). doi: 10.1097/SLA.0000000000006487\"\n        ],\n        \"semantic_type\": \"\",\n        \"description\": \"\"\n      }\n    },\n    {\n      \"column\": \"link\",\n      \"properties\": {\n        \"dtype\": \"number\",\n        \"std\": null,\n        \"min\": null,\n        \"max\": null,\n        \"num_unique_values\": 0,\n        \"samples\": [],\n        \"semantic_type\": \"\",\n        \"description\": \"\"\n      }\n    }\n  ]\n}"
            }
          },
          "metadata": {},
          "execution_count": 11
        }
      ]
    },
    {
      "cell_type": "markdown",
      "source": [
        "# **Annotate cancer-related texts**"
      ],
      "metadata": {
        "id": "C9CrOizzrYbP"
      }
    },
    {
      "cell_type": "code",
      "source": [
        "all_datasets[\"6fbbd315_01_01\"]['iso_key_add'].unique()"
      ],
      "metadata": {
        "id": "jpAGBve1rbxZ",
        "colab": {
          "base_uri": "https://localhost:8080/"
        },
        "outputId": "3f738440-8ff1-4e0b-d0f4-c4dc4cf8b0d8"
      },
      "execution_count": null,
      "outputs": [
        {
          "output_type": "execute_result",
          "data": {
            "text/plain": [
              "array([nan, 'health'], dtype=object)"
            ]
          },
          "metadata": {},
          "execution_count": 162
        }
      ]
    },
    {
      "cell_type": "code",
      "source": [
        "for file_name in xlsx_files:\n",
        "  for dataset_id, dataset in all_datasets.items():\n",
        "    if dataset_id in file_name:\n",
        "      dataset.to_csv(\"/content/drive/MyDrive/Su2024/GeoARK/\" + file_name, encoding=\"utf-8\")"
      ],
      "metadata": {
        "id": "vkaWeOYzesuS"
      },
      "execution_count": null,
      "outputs": []
    },
    {
      "cell_type": "code",
      "source": [
        "import medspacy\n",
        "from medspacy.ner import TargetRule\n",
        "\n",
        "nlp = medspacy.load()\n",
        "print(nlp.pipe_names)\n",
        "\n",
        "nlp.get_pipe('medspacy_target_matcher').add([TargetRule('stroke', 'CONDITION'), TargetRule('diabetes', 'CONDITION'), TargetRule('pna', 'CONDITION')])\n",
        "doc = nlp('Patient has hx of stroke. Mother diagnosed with diabetes. No evidence of pna.')\n",
        "\n",
        "for ent in doc.ents:\n",
        "    print(ent, ent._.is_negated, ent._.is_family, ent._.is_historical)\n",
        "displacy.render(doc, style=\"ent\", jupyter=True)"
      ],
      "metadata": {
        "id": "Q0lH6jawuKaF",
        "colab": {
          "base_uri": "https://localhost:8080/",
          "height": 121
        },
        "outputId": "6eb09da9-64f4-4a9d-a98e-9ef274744ad7"
      },
      "execution_count": null,
      "outputs": [
        {
          "output_type": "stream",
          "name": "stdout",
          "text": [
            "['medspacy_pyrush', 'medspacy_target_matcher', 'medspacy_context']\n",
            "stroke False False True\n",
            "diabetes False True False\n",
            "pna True False False\n"
          ]
        },
        {
          "output_type": "display_data",
          "data": {
            "text/plain": [
              "<IPython.core.display.HTML object>"
            ],
            "text/html": [
              "<span class=\"tex2jax_ignore\"><div class=\"entities\" style=\"line-height: 2.5; direction: ltr\">Patient has hx of \n",
              "<mark class=\"entity\" style=\"background: #ddd; padding: 0.45em 0.6em; margin: 0 0.25em; line-height: 1; border-radius: 0.35em;\">\n",
              "    stroke\n",
              "    <span style=\"font-size: 0.8em; font-weight: bold; line-height: 1; border-radius: 0.35em; vertical-align: middle; margin-left: 0.5rem\">CONDITION</span>\n",
              "</mark>\n",
              ". Mother diagnosed with \n",
              "<mark class=\"entity\" style=\"background: #ddd; padding: 0.45em 0.6em; margin: 0 0.25em; line-height: 1; border-radius: 0.35em;\">\n",
              "    diabetes\n",
              "    <span style=\"font-size: 0.8em; font-weight: bold; line-height: 1; border-radius: 0.35em; vertical-align: middle; margin-left: 0.5rem\">CONDITION</span>\n",
              "</mark>\n",
              ". No evidence of \n",
              "<mark class=\"entity\" style=\"background: #ddd; padding: 0.45em 0.6em; margin: 0 0.25em; line-height: 1; border-radius: 0.35em;\">\n",
              "    pna\n",
              "    <span style=\"font-size: 0.8em; font-weight: bold; line-height: 1; border-radius: 0.35em; vertical-align: middle; margin-left: 0.5rem\">CONDITION</span>\n",
              "</mark>\n",
              ".</div></span>"
            ]
          },
          "metadata": {}
        }
      ]
    },
    {
      "cell_type": "code",
      "source": [
        "def label_pubmed_abstracts(pubmed_dataframe: pandas.DataFrame):\n",
        "  nlp = spacy.load(\"en_ner_bc5cdr_md\")\n",
        "  for rowNum, row in pubmed_dataframe.iterrows():\n",
        "    file_name = \"\".join([c if c.isalnum() else \"_\" for c in row[\"title\"]]) + \"_labels.xlsx\"\n",
        "    nlp_labeled = nlp(row[\"abstract\"])\n",
        "    annotated_abstracts = pandas.DataFrame(columns=[\"text\", \"label\", \"start\", \"end\"])\n",
        "    first_row = pandas.DataFrame({\"text\": [row[\"abstract\"]], \"label\": None, \"start\": None, \"end\": None})\n",
        "    annotated_abstracts = pandas.concat([annotated_abstracts, first_row], ignore_index=True)\n",
        "    for entity in nlp_labeled.ents:\n",
        "      new_row = pandas.DataFrame({\"text\": [entity.text], \"label\": [str(entity.label_)], \"start\": [entity.start_char], \"end\": [entity.end_char]})\n",
        "      annotated_abstracts = pandas.concat([annotated_abstracts, new_row], ignore_index=True)\n",
        "    annotated_abstracts = annotated_abstracts.loc[annotated_abstracts[\"label\"] == \"DISEASE\"]\n",
        "    if not annotated_abstracts.empty:\n",
        "      annotated_abstracts.to_csv(\"/content/drive/MyDrive/Su2024/GeoARK/pubmed_labeled_abstracts/\" + file_name, encoding=\"utf-8\", index=False)"
      ],
      "metadata": {
        "id": "0zqeb-mwvKia"
      },
      "execution_count": null,
      "outputs": []
    },
    {
      "cell_type": "code",
      "source": [
        "label_pubmed_abstracts(pubmed_dataframe)"
      ],
      "metadata": {
        "id": "7YF9YrsTf8xw"
      },
      "execution_count": null,
      "outputs": []
    },
    {
      "cell_type": "markdown",
      "source": [
        "# **Extract GEO-words from Natural Language**"
      ],
      "metadata": {
        "id": "fhdRaIKv1jeO"
      }
    },
    {
      "cell_type": "code",
      "source": [
        "def extract_only_country_locations(prompt: str, country: str):\n",
        "  entities = locationtagger.find_locations(text=prompt)\n",
        "\n",
        "  explicit_regions = []\n",
        "  explicit_cities = []\n",
        "  region_to_cities = {}\n",
        "\n",
        "  if country in entities.countries or country in entities.other_countries:\n",
        "    if country in entities.country_regions.keys():\n",
        "      explicit_regions = entities.country_regions[country]\n",
        "    if country in entities.country_cities.keys():\n",
        "      explicit_cities = entities.country_cities[country]\n",
        "    for explicit_city in explicit_cities:\n",
        "      for region, cities in entities.region_cities.items():\n",
        "        if explicit_city in cities:\n",
        "          if region not in region_to_cities:\n",
        "            region_to_cities[region] = [explicit_city]\n",
        "          else:\n",
        "            region_to_cities[region].append(explicit_city)\n",
        "\n",
        "  location_entities = locationtagger.find_locations(text=str(region_to_cities))\n",
        "  reextracted_region_to_cities = {}\n",
        "  for region, city in region_to_cities.items():\n",
        "    if region in location_entities.country_regions[country]:\n",
        "      reextracted_region_to_cities[region] = city\n",
        "  return {\"explicit regions\": explicit_regions, \"explicit cities\": explicit_cities, \"implicit\": reextracted_region_to_cities, \"other\": entities.other}\n"
      ],
      "metadata": {
        "id": "EV-wFyLH4R-a"
      },
      "execution_count": null,
      "outputs": []
    },
    {
      "cell_type": "code",
      "source": [
        "prompt = \"\"\"What is the cancer prevelance rate during 2019 in Washington D.C to Columbia, California, VA to Taipei to Chile?\"\"\"\n",
        "extracted_locations = extract_only_country_locations(prompt, \"United States\")"
      ],
      "metadata": {
        "id": "bbtiMInz6GrJ"
      },
      "execution_count": null,
      "outputs": []
    },
    {
      "cell_type": "code",
      "source": [
        "extracted_locations"
      ],
      "metadata": {
        "id": "6egq-NA16L5V",
        "colab": {
          "base_uri": "https://localhost:8080/"
        },
        "outputId": "28c51750-dfce-435d-e735-2da617d80884"
      },
      "execution_count": null,
      "outputs": [
        {
          "output_type": "execute_result",
          "data": {
            "text/plain": [
              "{'explicit regions': ['California', 'Washington'],\n",
              " 'explicit cities': ['Washington', 'Columbia', 'California'],\n",
              " 'implicit': {'Missouri': ['Washington', 'Columbia', 'California'],\n",
              "  'Indiana': ['Washington'],\n",
              "  'Pennsylvania': ['Washington', 'Columbia', 'California'],\n",
              "  'Connecticut': ['Washington', 'Columbia'],\n",
              "  'Mississippi': ['Washington', 'Columbia'],\n",
              "  'Michigan': ['Washington'],\n",
              "  'Utah': ['Washington'],\n",
              "  'Virginia': ['Washington', 'Columbia', 'California'],\n",
              "  'Wisconsin': ['Washington'],\n",
              "  'Kansas': ['Washington'],\n",
              "  'Georgia': ['Washington'],\n",
              "  'Maine': ['Washington'],\n",
              "  'Iowa': ['Washington', 'Columbia'],\n",
              "  'Oklahoma': ['Washington'],\n",
              "  'Arkansas': ['Washington'],\n",
              "  'Maryland': ['Columbia', 'California'],\n",
              "  'Tennessee': ['Columbia'],\n",
              "  'California': ['Columbia'],\n",
              "  'Kentucky': ['Columbia', 'California']},\n",
              " 'other': ['Washington D.C', 'VA']}"
            ]
          },
          "metadata": {},
          "execution_count": 7
        }
      ]
    },
    {
      "cell_type": "code",
      "source": [
        "def extract_abbreviated_locations(prompt: str, extracted_locations: dict, print_added=False) -> dict:\n",
        "  \"\"\"\n",
        "    Input:\n",
        "      prompt: str, geospatial query\n",
        "      extracted_locations: dict, output from extract_only_country_locations()\n",
        "    Output:\n",
        "      extracted_locations: dict, updated version of extracted_locations that includes abbreviated regions/minus any loc\n",
        "  \"\"\"\n",
        "  states_abbreviations = {'AL': 'Alabama', 'AK': 'Alaska', 'AZ': 'Arizona', 'AR': 'Arkansas', 'CA': 'California', 'CO': 'Colorado', 'CT': 'Connecticut', 'DE': 'Delaware', 'DC': 'District of Columbia', 'D.C': 'District of Columbia', 'D.C.': 'District of Columbia', 'FL': 'Florida', 'GA': 'Georgia', 'HI': 'Hawaii', 'ID': 'Idaho', 'IL': 'Illinois', 'IN': 'Indiana', 'IA': 'Iowa', 'KS': 'Kansas', 'KY': 'Kentucky', 'LA': 'Louisiana', 'ME': 'Maine', 'MD': 'Maryland', 'MA': 'Massachusetts', 'MI': 'Michigan', 'MN': 'Minnesota', 'MS': 'Mississippi', 'MO': 'Missouri', 'MT': 'Montana', 'NE': 'Nebraska', 'NV': 'Nevada', 'NH': 'New Hampshire', 'NJ': 'New Jersey', 'NM': 'New Mexico', 'NY': 'New York', 'NC': 'North Carolina', 'ND': 'North Dakota', 'OH': 'Ohio', 'OK': 'Oklahoma', 'OR': 'Oregon', 'PA': 'Pennsylvania', 'RI': 'Rhode Island', 'SC': 'South Carolina', 'SD': 'South Dakota', 'TN': 'Tennessee', 'TX': 'Texas', 'UT': 'Utah', 'VT': 'Vermont', 'VA': 'Virginia', 'WA': 'Washington', 'WV': 'West Virginia', 'WI': 'Wisconsin', 'WY': 'Wyoming'}\n",
        "  for abbreviation in states_abbreviations.keys():\n",
        "    if prompt.endswith(abbreviation):\n",
        "      if prompt[-3] == ' ' or prompt[-3] == ',':\n",
        "        extracted_locations[\"explicit regions\"].append(states_abbreviations[prompt[-2:]])\n",
        "        prompt = prompt[:-3]\n",
        "        if print_added:\n",
        "          print(\"Added\", states_abbreviations[prompt[-2:]], \"to explicit regions...\")\n",
        "\n",
        "    matches = re.findall(f\"\\W+{abbreviation}\\W+\", prompt)\n",
        "    if matches:\n",
        "      first_match = re.sub('[\\W_]+', '', matches[0])\n",
        "      state = states_abbreviations[first_match]\n",
        "      extracted_locations[\"explicit regions\"].append(state)\n",
        "      if print_added:\n",
        "        print(\"Added\", state, \"to explicit regions...\")\n",
        "  return extracted_locations"
      ],
      "metadata": {
        "id": "tq-tAqZbRm1-"
      },
      "execution_count": null,
      "outputs": []
    },
    {
      "cell_type": "code",
      "source": [
        "extracted_locations = extract_abbreviated_locations(prompt, extracted_locations, print_added=True)\n",
        "extracted_locations"
      ],
      "metadata": {
        "colab": {
          "base_uri": "https://localhost:8080/"
        },
        "id": "jB3lFI86OTu1",
        "outputId": "a5271d2b-2e39-461a-ab4d-dcdd4bef3bb1"
      },
      "execution_count": null,
      "outputs": [
        {
          "output_type": "stream",
          "name": "stdout",
          "text": [
            "Added District of Columbia ...\n",
            "Added Virginia ...\n"
          ]
        },
        {
          "output_type": "execute_result",
          "data": {
            "text/plain": [
              "{'explicit regions': ['California',\n",
              "  'Washington',\n",
              "  'District of Columbia',\n",
              "  'Virginia'],\n",
              " 'explicit cities': ['Washington', 'Columbia', 'California'],\n",
              " 'implicit': {'Missouri': ['Washington', 'Columbia', 'California'],\n",
              "  'Indiana': ['Washington'],\n",
              "  'Pennsylvania': ['Washington', 'Columbia', 'California'],\n",
              "  'Connecticut': ['Washington', 'Columbia'],\n",
              "  'Mississippi': ['Washington', 'Columbia'],\n",
              "  'Michigan': ['Washington'],\n",
              "  'Utah': ['Washington'],\n",
              "  'Virginia': ['Washington', 'Columbia', 'California'],\n",
              "  'Wisconsin': ['Washington'],\n",
              "  'Kansas': ['Washington'],\n",
              "  'Georgia': ['Washington'],\n",
              "  'Maine': ['Washington'],\n",
              "  'Iowa': ['Washington', 'Columbia'],\n",
              "  'Oklahoma': ['Washington'],\n",
              "  'Arkansas': ['Washington'],\n",
              "  'Maryland': ['Columbia', 'California'],\n",
              "  'Tennessee': ['Columbia'],\n",
              "  'California': ['Columbia'],\n",
              "  'Kentucky': ['Columbia', 'California']},\n",
              " 'other': ['Washington D.C', 'VA']}"
            ]
          },
          "metadata": {},
          "execution_count": 110
        }
      ]
    },
    {
      "cell_type": "code",
      "source": [
        "def test(prompt: str, extracted_locations: dict, print_added=False) -> dict:\n",
        "  \"\"\"\n",
        "    Input:\n",
        "      prompt: str, geospatial query\n",
        "      extracted_locations: dict, output from extract_only_country_locations()\n",
        "    Output:\n",
        "      extracted_locations: dict, updated version of extracted_locations that includes abbreviated regions/minus any loc\n",
        "  \"\"\"\n",
        "  states_abbreviations = {'AL': 'Alabama', 'AK': 'Alaska', 'AZ': 'Arizona', 'AR': 'Arkansas', 'CA': 'California', 'CO': 'Colorado', 'CT': 'Connecticut', 'DE': 'Delaware', 'DC': 'District of Columbia', 'D.C': 'District of Columbia', 'D.C.': 'District of Columbia', 'FL': 'Florida', 'GA': 'Georgia', 'HI': 'Hawaii', 'ID': 'Idaho', 'IL': 'Illinois', 'IN': 'Indiana', 'IA': 'Iowa', 'KS': 'Kansas', 'KY': 'Kentucky', 'LA': 'Louisiana', 'ME': 'Maine', 'MD': 'Maryland', 'MA': 'Massachusetts', 'MI': 'Michigan', 'MN': 'Minnesota', 'MS': 'Mississippi', 'MO': 'Missouri', 'MT': 'Montana', 'NE': 'Nebraska', 'NV': 'Nevada', 'NH': 'New Hampshire', 'NJ': 'New Jersey', 'NM': 'New Mexico', 'NY': 'New York', 'NC': 'North Carolina', 'ND': 'North Dakota', 'OH': 'Ohio', 'OK': 'Oklahoma', 'OR': 'Oregon', 'PA': 'Pennsylvania', 'RI': 'Rhode Island', 'SC': 'South Carolina', 'SD': 'South Dakota', 'TN': 'Tennessee', 'TX': 'Texas', 'UT': 'Utah', 'VT': 'Vermont', 'VA': 'Virginia', 'WA': 'Washington', 'WV': 'West Virginia', 'WI': 'Wisconsin', 'WY': 'Wyoming'}\n",
        "  for abbreviation in states_abbreviations.keys():\n",
        "    if prompt.endswith(abbreviation):\n",
        "      if prompt[-3] == ' ' or prompt[-3] == ',':\n",
        "        extracted_locations[\"explicit regions\"].append(states_abbreviations[prompt[-2:]])\n",
        "        prompt = prompt[:-3]\n",
        "        if print_added:\n",
        "          print(\"Added\", states_abbreviations[prompt[-2:]], \"...\")\n",
        "\n",
        "    region_matches = re.findall(f\"\\W+{abbreviation}\\W+\", prompt)\n",
        "    if region_matches:\n",
        "      first_match = re.sub('[\\W_]+', '', region_matches[0])\n",
        "      region = states_abbreviations[first_match]\n",
        "      extracted_locations[\"explicit regions\"].append(region)\n",
        "      if print_added:\n",
        "        print(\"Added\", region, \"to explicit regions...\")\n",
        "\n",
        "    city_matches = re.findall(r\"\\w+\\W+(?=\\s*\" + abbreviation +  r\")\", prompt)\n",
        "    if city_matches:\n",
        "      city = re.sub('[\\W_]+', '', city_matches[0])\n",
        "      if city:\n",
        "        if \"explicit_regions_cities\" not in extracted_locations.keys():\n",
        "          extracted_locations[\"explicit_regions_cities\"] = [{region: city}]\n",
        "        else:\n",
        "          extracted_locations[\"explicit_regions_cities\"].append({region: city})\n",
        "  return extracted_locations"
      ],
      "metadata": {
        "id": "-65FS2hATPNE"
      },
      "execution_count": null,
      "outputs": []
    },
    {
      "cell_type": "code",
      "source": [
        "extracted = extract_only_country_locations(prompt, \"United States\")\n",
        "test(prompt, extracted)"
      ],
      "metadata": {
        "colab": {
          "base_uri": "https://localhost:8080/",
          "height": 198
        },
        "id": "R5xpDTJNihqb",
        "outputId": "d6ee07a3-06a5-41f2-ce78-fa994b74520e"
      },
      "execution_count": null,
      "outputs": [
        {
          "output_type": "error",
          "ename": "NameError",
          "evalue": "name 'extract_only_country_locations' is not defined",
          "traceback": [
            "\u001b[0;31m---------------------------------------------------------------------------\u001b[0m",
            "\u001b[0;31mNameError\u001b[0m                                 Traceback (most recent call last)",
            "\u001b[0;32m<ipython-input-4-93425f6f7c11>\u001b[0m in \u001b[0;36m<cell line: 2>\u001b[0;34m()\u001b[0m\n\u001b[1;32m      1\u001b[0m \u001b[0mprompt\u001b[0m \u001b[0;34m=\u001b[0m \u001b[0;34m\"The percentage of people in California, VA without health insurance versus the percentage of people in Columbia, MO covered under VU versus Washington DC from 2019 February to 2020 June 12, 6pm\"\u001b[0m\u001b[0;34m\u001b[0m\u001b[0;34m\u001b[0m\u001b[0m\n\u001b[0;32m----> 2\u001b[0;31m \u001b[0mextracted\u001b[0m \u001b[0;34m=\u001b[0m \u001b[0mextract_only_country_locations\u001b[0m\u001b[0;34m(\u001b[0m\u001b[0mprompt\u001b[0m\u001b[0;34m,\u001b[0m \u001b[0;34m\"United States\"\u001b[0m\u001b[0;34m)\u001b[0m\u001b[0;34m\u001b[0m\u001b[0;34m\u001b[0m\u001b[0m\n\u001b[0m\u001b[1;32m      3\u001b[0m \u001b[0mtest\u001b[0m\u001b[0;34m(\u001b[0m\u001b[0mprompt\u001b[0m\u001b[0;34m,\u001b[0m \u001b[0mextracted\u001b[0m\u001b[0;34m)\u001b[0m\u001b[0;34m\u001b[0m\u001b[0;34m\u001b[0m\u001b[0m\n",
            "\u001b[0;31mNameError\u001b[0m: name 'extract_only_country_locations' is not defined"
          ]
        }
      ]
    },
    {
      "cell_type": "code",
      "source": [
        "nlp = spacy.load(\"en_core_web_sm\")\n",
        "document = nlp(prompt)\n",
        "displacy.render(document, style=\"ents\", jupyter=True)"
      ],
      "metadata": {
        "id": "dwy6fJK9ij7R"
      },
      "execution_count": null,
      "outputs": []
    },
    {
      "cell_type": "markdown",
      "source": [
        "#**Extract temporal entities from Natural Language**"
      ],
      "metadata": {
        "id": "yUfxEp0yJyls"
      }
    },
    {
      "cell_type": "code",
      "source": [
        "def extract_temporal_entities(text: str) -> list:\n",
        "  \"\"\"\n",
        "  Given English natural language text, detect all mentions of temporal entities.\n",
        "  If entitiy isn't specific enough, defaults to previously mentioned year's date OR current year-1, January, and or 1st day of month\n",
        "  input:\n",
        "    text: str, geospatial query\n",
        "  output:\n",
        "    list of tuples [(\"detected entity\", detected entity as datetime entity)]\n",
        "  \"\"\"\n",
        "  defaults = {\"PREFER_DATES_FROM\": \"past\", \"PREFER_MONTH_OF_YEAR\": \"first\", \"PREFER_DAY_OF_MONTH\": \"first\"}\n",
        "  return search_dates(text, settings=defaults, languages=[\"en\"])"
      ],
      "metadata": {
        "id": "vBDXV-LeLLOn"
      },
      "execution_count": null,
      "outputs": []
    },
    {
      "cell_type": "code",
      "source": [
        "prompt = \"The percentage of people in California, VA without health insurance versus the percentage of people in Columbia, MO covered under VU versus Washington DC from 2019 February to 2020 June 12, 6pm\""
      ],
      "metadata": {
        "id": "0Quh1pgJKVas"
      },
      "execution_count": null,
      "outputs": []
    },
    {
      "cell_type": "code",
      "source": [
        "extract_temporal_entities(\"Around 2000, \" + prompt + \". What about in December?\")"
      ],
      "metadata": {
        "colab": {
          "base_uri": "https://localhost:8080/"
        },
        "id": "1IztfYsaKZ5g",
        "outputId": "9414852c-c3c0-4965-bdac-10dc110eefb6"
      },
      "execution_count": null,
      "outputs": [
        {
          "output_type": "execute_result",
          "data": {
            "text/plain": [
              "[('2000, The', datetime.datetime(2000, 1, 1, 0, 0)),\n",
              " ('2019 February', datetime.datetime(2019, 2, 1, 0, 0)),\n",
              " ('2020 June 12, 6pm', datetime.datetime(2020, 6, 12, 18, 0)),\n",
              " ('about in December', datetime.datetime(2019, 12, 1, 0, 0))]"
            ]
          },
          "metadata": {},
          "execution_count": 8
        }
      ]
    },
    {
      "cell_type": "code",
      "source": [],
      "metadata": {
        "id": "yrqxX-s8BKst"
      },
      "execution_count": null,
      "outputs": []
    }
  ]
}